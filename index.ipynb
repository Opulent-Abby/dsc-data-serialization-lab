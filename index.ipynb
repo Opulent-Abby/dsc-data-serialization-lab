{
 "cells": [
  {
   "cell_type": "markdown",
   "id": "dd8760a9",
   "metadata": {},
   "source": [
    "# Data Serialization Formats - Cumulative Lab\n",
    "\n",
    "## Introduction\n",
    "\n",
    "Now that you have learned about CSV and JSON file formats individually, it's time to bring them together with a cumulative lab! Even as a junior data scientist, you can often produce novel, interesting analyses by combining multiple datasets that haven't been combined before.\n",
    "\n",
    "## Objectives\n",
    "\n",
    "You will be able to:\n",
    "\n",
    "* Practice reading serialized JSON and CSV data from files into Python objects\n",
    "* Practice extracting information from nested data structures\n",
    "* Practice cleaning data (filtering, normalizing locations, converting types)\n",
    "* Combine data from multiple sources into a single data structure\n",
    "* Interpret descriptive statistics and data visualizations to present your findings\n",
    "\n",
    "## Your Task: Analyze the Relationship between Population and World Cup Performance\n",
    "\n",
    "![Russia 2018 branded soccer ball and trophy](https://curriculum-content.s3.amazonaws.com/data-science/images/world_cup.jpg)\n",
    "\n",
    "<span>Photo by <a href=\"https://unsplash.com/@fznsr_?utm_source=unsplash&amp;utm_medium=referral&amp;utm_content=creditCopyText\">Fauzan Saari</a> on <a href=\"https://unsplash.com/s/photos/soccer-world-cup?utm_source=unsplash&amp;utm_medium=referral&amp;utm_content=creditCopyText\">Unsplash</a></span>"
   ]
  },
  {
   "cell_type": "markdown",
   "id": "43c1f483",
   "metadata": {},
   "source": [
    "### Business Understanding\n",
    "\n",
    "#### What is the relationship between the population of a country and their performance in the 2018 FIFA World Cup?\n",
    "\n",
    "Intuitively, we might assume that countries with larger populations would have better performance in international sports competitions. While this has been demonstrated to be [true for the Olympics](https://www.researchgate.net/publication/308513557_Medals_at_the_Olympic_Games_The_Relationship_Between_Won_Medals_Gross_Domestic_Product_Population_Size_and_the_Weight_of_Sportive_Practice), the results for the FIFA World Cup are more mixed:\n",
    "\n",
    "<p><a href=\"https://web.archive.org/web/20230524202759/https://upload.wikimedia.org/wikipedia/commons/3/3c/World_cup_countries_best_results.png\"><img src=\"https://upload.wikimedia.org/wikipedia/commons/3/3c/World_cup_countries_best_results.png\" alt=\"World cup countries best results and hosts.PNG\" height=\"563\" width=\"1280\"></a><br><a href=\"http://creativecommons.org/licenses/by-sa/3.0/\" title=\"Creative Commons Attribution-Share Alike 3.0\">CC BY-SA 3.0</a>, <a href=\"https://commons.wikimedia.org/w/index.php?curid=578740\">Link</a></p>\n",
    "\n",
    "In this analysis, we are going to look specifically at the sample of World Cup games in 2018 and the corresponding 2018 populations of the participating nations, to determine the relationship between population and World Cup performance for this year."
   ]
  },
  {
   "cell_type": "markdown",
   "id": "084dd879",
   "metadata": {},
   "source": [
    "### Data Understanding\n",
    "\n",
    "The data sources for this analysis will be pulled from two separate files.\n",
    "\n",
    "#### `world_cup_2018.json`\n",
    "\n",
    "* **Source**: This dataset comes from [`football.db`](http://openfootball.github.io/), a \"free and open public domain football database & schema for use in any (programming) language\"\n",
    "* **Contents**: Data about all games in the 2018 World Cup, including date, location (city and stadium), teams, goals scored (and by whom), and tournament group\n",
    "* **Format**: Nested JSON data (dictionary containing a list of rounds, each of which contains a list of matches, each of which contains information about the teams involved and the points scored)\n",
    "\n",
    "#### `country_populations.csv`\n",
    "\n",
    "* **Source**: This dataset comes from a curated collection by [DataHub.io](https://datahub.io/core/population), originally sourced from the World Bank\n",
    "* **Contents**: Data about populations by country for all available years from 1960 to 2018\n",
    "* **Format**: CSV data, where each row contains a country name, a year, and a population"
   ]
  },
  {
   "cell_type": "markdown",
   "id": "5db3e94f",
   "metadata": {},
   "source": [
    "### Requirements\n",
    "\n",
    "#### 1. List of Teams in 2018 World Cup\n",
    "\n",
    "Create an alphabetically-sorted list of teams who competed in the 2018 FIFA World Cup.\n",
    "\n",
    "#### 2. Associating Countries with 2018 World Cup Performance\n",
    "\n",
    "Create a data structure that connects a team name (country name) to its performance in the 2018 FIFA World Cup. We'll use the count of games won in the entire tournament (group stage as well as knockout stage) to represent the performance.\n",
    "\n",
    "This will help create visualizations to help the reader understand the distribution of games won and the performance of each team.\n",
    "\n",
    "#### 3. Associating Countries with 2018 Population\n",
    "\n",
    "Add to the existing data structure so that it also connects each country name to its 2018 population, and create visualizations comparable to those from step 2.\n",
    "\n",
    "#### 4. Analysis of Population vs. Performance\n",
    "\n",
    "Choose an appropriate statistical measure to analyze the relationship between population and performance, and create a visualization representing this relationship."
   ]
  },
  {
   "cell_type": "markdown",
   "id": "e796f2c3",
   "metadata": {},
   "source": [
    "### Checking for Understanding\n",
    "\n",
    "Before moving on to the next step, pause and think about the strategy for this analysis.\n",
    "\n",
    "Remember, our business question is:\n",
    "\n",
    "> What is the relationship between the population of a country and their performance in the 2018 FIFA World Cup?\n",
    "\n",
    "#### Unit of Analysis\n",
    "\n",
    "First, what is our **unit of analysis**, and what is the **unique identifier**? In other words, what will one record in our final data structure represent, and what attribute uniquely describes it?\n",
    "\n",
    ".\n",
    "\n",
    ".\n",
    "\n",
    ".\n",
    "\n",
    "*Answer:* \n",
    "\n",
    "> What is the relationship between the population of a **country** and their performance in the 2018 FIFA World Cup?\n",
    "\n",
    "*Our unit of analysis is a* ***country*** *and the unique identifier we'll use is the* ***country name***\n",
    "\n",
    "#### Features\n",
    "\n",
    "Next, what **features** are we analyzing? In other words, what attributes of each country are we interested in?\n",
    "\n",
    ".\n",
    "\n",
    ".\n",
    "\n",
    ".\n",
    "\n",
    "*Answer:* \n",
    "\n",
    "> What is the relationship between the **population** of a country and their **performance in the 2018 FIFA World Cup**?\n",
    "\n",
    "*Our features are* ***2018 population*** *and* ***count of wins in the 2018 World Cup***\n",
    "\n",
    "#### Dataset to Start With\n",
    "\n",
    "Finally, which dataset should we **start** with? In this case, any record with missing data is not useful to us, so we want to start with the smaller dataset.\n",
    "\n",
    ".\n",
    "\n",
    ".\n",
    "\n",
    ".\n",
    "\n",
    "*Answer: There are only 32 countries that compete in the World Cup each year, compared to hundreds of countries in the world, so we should start with the* ***2018 World Cup*** *dataset. Then we can join it with the relevant records from the country population dataset.*"
   ]
  },
  {
   "cell_type": "markdown",
   "id": "d09368c7",
   "metadata": {},
   "source": [
    "## Getting the Data\n",
    "\n",
    "Below we import the `json` and `csv` modules, which will be used for reading from `world_cup_2018.json` and `country_populations.csv`, respectively."
   ]
  },
  {
   "cell_type": "code",
   "execution_count": 97,
   "id": "398f4de3",
   "metadata": {
    "execution": {
     "iopub.execute_input": "2025-07-28T18:17:12.846921Z",
     "iopub.status.busy": "2025-07-28T18:17:12.846453Z",
     "iopub.status.idle": "2025-07-28T18:17:12.854950Z",
     "shell.execute_reply": "2025-07-28T18:17:12.854174Z"
    }
   },
   "outputs": [],
   "source": [
    "# Run this cell without changes\n",
    "import json\n",
    "import csv"
   ]
  },
  {
   "cell_type": "markdown",
   "id": "d8c259ab",
   "metadata": {},
   "source": [
    "Next, we open the relevant files."
   ]
  },
  {
   "cell_type": "code",
   "execution_count": 98,
   "id": "72ff86e7",
   "metadata": {
    "execution": {
     "iopub.execute_input": "2025-07-28T18:17:12.859813Z",
     "iopub.status.busy": "2025-07-28T18:17:12.859239Z",
     "iopub.status.idle": "2025-07-28T18:17:13.606485Z",
     "shell.execute_reply": "2025-07-28T18:17:13.605489Z"
    }
   },
   "outputs": [
    {
     "name": "stdout",
     "output_type": "stream",
     "text": [
      "\n",
      "Checking possible world cup file paths:\n",
      "  ✗ Not found: data/world-cup-Data Base.json\n",
      "  ✓ Found: world-cup-Data Base.json\n",
      "\n",
      "Checking possible population file paths:\n",
      "  ✗ Not found: data/country_populations.csv\n",
      "  ✓ Found: country_populations.csv\n",
      "\n",
      "✅ Successfully loaded World Cup data from: world-cup-Data Base.json\n",
      "✅ Successfully loaded population data from: country_populations.csv\n"
     ]
    }
   ],
   "source": [
    "import os\n",
    "import json\n",
    "import pandas as pd\n",
    "\n",
    "# Check if files exist before trying to open them\n",
    "possible_paths_world_cup = [\n",
    "    \"data/world-cup-Data Base.json\",\n",
    "    \"world-cup-Data Base.json\", \n",
    "    \"World_Cup_2018.json\",\n",
    "    \"data/World_Cup_2018.json\",\n",
    "    \"../data/world-cup-Data Base.json\"\n",
    "]\n",
    "\n",
    "possible_paths_population = [\n",
    "    \"data/country_populations.csv\",\n",
    "    \"country_populations.csv\",\n",
    "    \"../data/country_populations.csv\"\n",
    "]\n",
    "\n",
    "# Initialize paths\n",
    "world_cup_path = None\n",
    "population_path = None\n",
    "\n",
    "# Find the correct path for world cup data\n",
    "print(\"\\nChecking possible world cup file paths:\")\n",
    "for path in possible_paths_world_cup:\n",
    "    if os.path.exists(path):\n",
    "        print(f\"  ✓ Found: {path}\")\n",
    "        world_cup_path = path\n",
    "        break\n",
    "    else:\n",
    "        print(f\"  ✗ Not found: {path}\")\n",
    "\n",
    "# Find the correct path for population data\n",
    "print(\"\\nChecking possible population file paths:\")\n",
    "for path in possible_paths_population:\n",
    "    if os.path.exists(path):\n",
    "        print(f\"  ✓ Found: {path}\")\n",
    "        population_path = path\n",
    "        break\n",
    "    else:\n",
    "        print(f\"  ✗ Not found: {path}\")\n",
    "\n",
    "# Load data if files were found\n",
    "if world_cup_path:\n",
    "    with open(world_cup_path, encoding=\"utf8\") as world_cup_file:\n",
    "        world_cup_data = json.load(world_cup_file)\n",
    "    print(f\"\\n✅ Successfully loaded World Cup data from: {world_cup_path}\")\n",
    "else:\n",
    "    print(\"\\n❌ Could not find World Cup file.\")\n",
    "\n",
    "if population_path:\n",
    "    population_data = pd.read_csv(population_path)\n",
    "    print(f\"✅ Successfully loaded population data from: {population_path}\")\n",
    "else:\n",
    "    print(\"❌ Could not find population file.\")\n"
   ]
  },
  {
   "cell_type": "markdown",
   "id": "3d87f693",
   "metadata": {},
   "source": [
    "**Hint:** if your code below is not working, (e.g. `ValueError: I/O operation on closed file.`, or you get an empty list or dictionary) try re-running the cell above to reopen the files, then re-run your code.\n",
    "\n",
    "### 2018 World Cup Data\n",
    "\n",
    "In the cell below, use the `json` module to load the data from `world_cup_file` into a dictionary called `world_cup_data`"
   ]
  },
  {
   "cell_type": "code",
   "execution_count": 99,
   "id": "a063f94a",
   "metadata": {
    "execution": {
     "iopub.execute_input": "2025-07-28T18:17:13.612036Z",
     "iopub.status.busy": "2025-07-28T18:17:13.611427Z",
     "iopub.status.idle": "2025-07-28T18:17:13.618736Z",
     "shell.execute_reply": "2025-07-28T18:17:13.617563Z"
    }
   },
   "outputs": [
    {
     "name": "stdout",
     "output_type": "stream",
     "text": [
      "['.ipynb_checkpoints', 'Aviation Safety Risk Analysis README.pdf', 'aviation-phase1', 'Aviation_Project_Presentation.html', 'country_populations.csv', 'Custom Office Templates', 'Data Science Project Phase 1 Instructions.docx', 'data serialisation cumulative lab-1.ipynb', 'data serialisation cumulative lab.ipynb', 'desktop.ini', 'dsc-pandas-data-cleaning-lab', 'dsc-phase-1-project-v3', 'dsc-phase-1-project-v3- initial', 'fifa.csv', 'FIFA_WorldCup_Lab_Complete.ipynb', 'FIFA_WorldCup_Lab_FULL_Executed.ipynb', 'Group 2-Microeconomics.docx', 'heroes_information.csv', 'Important notes.txt', 'My Music', 'My Pictures', 'My Tableau Repository', 'My Videos', 'Pandas data cleaning cumulative lab.ipynb', 'Pandas_Data_Cleaning_Lab_Fixed.html', 'powers.csv', 'student-pdf.pdf', 'Superstore Sales-Cumulative Lab.md', 'Superstore_Sales.csv', 'world-cup-Data Base.json', '~$ta Science Project Phase 1 Instructions.docx']\n"
     ]
    }
   ],
   "source": [
    "import os\n",
    "print(os.listdir())"
   ]
  },
  {
   "cell_type": "code",
   "execution_count": 100,
   "id": "e9ab64d7",
   "metadata": {
    "execution": {
     "iopub.execute_input": "2025-07-28T18:17:13.623486Z",
     "iopub.status.busy": "2025-07-28T18:17:13.622917Z",
     "iopub.status.idle": "2025-07-28T18:17:13.633020Z",
     "shell.execute_reply": "2025-07-28T18:17:13.631993Z"
    }
   },
   "outputs": [
    {
     "name": "stdout",
     "output_type": "stream",
     "text": [
      "<class 'dict'>\n",
      "dict_keys(['name', 'rounds'])\n"
     ]
    }
   ],
   "source": [
    "import json\n",
    "\n",
    "world_cup_file = \"world-cup-Data Base.json\"\n",
    "\n",
    "# Specify encoding to avoid UnicodeDecodeError\n",
    "with open(world_cup_file, \"r\", encoding=\"utf-8\") as file:\n",
    "    world_cup_data = json.load(file)\n",
    "\n",
    "# Optional: view structure\n",
    "print(type(world_cup_data))\n",
    "print(world_cup_data.keys())\n",
    "\n",
    "\n"
   ]
  },
  {
   "cell_type": "code",
   "execution_count": 101,
   "id": "4f434624",
   "metadata": {
    "execution": {
     "iopub.execute_input": "2025-07-28T18:17:13.637546Z",
     "iopub.status.busy": "2025-07-28T18:17:13.637070Z",
     "iopub.status.idle": "2025-07-28T18:17:13.646382Z",
     "shell.execute_reply": "2025-07-28T18:17:13.645178Z"
    }
   },
   "outputs": [
    {
     "name": "stdout",
     "output_type": "stream",
     "text": [
      "<class 'dict'>\n",
      "dict_keys(['name', 'rounds'])\n"
     ]
    }
   ],
   "source": [
    "import json\n",
    "\n",
    "# Use the exact filename from the upload\n",
    "world_cup_file = \"world-cup-Data Base.json\"\n",
    "\n",
    "with open(world_cup_file, \"r\") as file:\n",
    "    world_cup_data = json.load(file)\n",
    "\n",
    "print(type(world_cup_data))\n",
    "print(world_cup_data.keys())  # Or print(json.dumps(world_cup_data, indent=2))\n"
   ]
  },
  {
   "cell_type": "code",
   "execution_count": 102,
   "id": "59be8b74",
   "metadata": {
    "execution": {
     "iopub.execute_input": "2025-07-28T18:17:13.650891Z",
     "iopub.status.busy": "2025-07-28T18:17:13.650366Z",
     "iopub.status.idle": "2025-07-28T18:17:13.658135Z",
     "shell.execute_reply": "2025-07-28T18:17:13.657061Z"
    }
   },
   "outputs": [],
   "source": [
    "# Run this cell without changes\n",
    "import json\n",
    "\n",
    "with open(\"world-cup-Data Base.json\", \"r\", encoding=\"utf-8\") as file:\n",
    "    world_cup_data = json.load(file)\n",
    "# Check that the overall data structure is a dictionary\n",
    "assert type(world_cup_data) == dict\n",
    "\n",
    "# Check that the dictionary has 2 keys, 'name' and 'rounds'\n",
    "assert list(world_cup_data.keys()) == [\"name\", \"rounds\"]"
   ]
  },
  {
   "cell_type": "markdown",
   "id": "7023885c",
   "metadata": {},
   "source": [
    "### Population Data\n",
    "\n",
    "Now use the `csv` module to load the data from `population_file` into a list of dictionaries called `population_data`\n",
    "\n",
    "(Recall that you can convert a `csv.DictReader` object into a list of dictionaries using the built-in `list()` function.)"
   ]
  },
  {
   "cell_type": "code",
   "execution_count": 103,
   "id": "7d228cf2",
   "metadata": {
    "execution": {
     "iopub.execute_input": "2025-07-28T18:17:13.663531Z",
     "iopub.status.busy": "2025-07-28T18:17:13.662605Z",
     "iopub.status.idle": "2025-07-28T18:17:13.688340Z",
     "shell.execute_reply": "2025-07-28T18:17:13.687468Z"
    }
   },
   "outputs": [
    {
     "name": "stdout",
     "output_type": "stream",
     "text": [
      "   Unnamed: 0 Country Name Country Code  Year    Value\n",
      "0        2714  Afghanistan          AFG  1960  8996973\n",
      "1        2715  Afghanistan          AFG  1961  9169410\n",
      "2        2716  Afghanistan          AFG  1962  9351441\n",
      "3        2717  Afghanistan          AFG  1963  9543205\n",
      "4        2718  Afghanistan          AFG  1964  9744781\n"
     ]
    }
   ],
   "source": [
    "# Replace None with appropriate code\n",
    "population_file =\"country_populations.csv\"\n",
    "\n",
    "population_data = pd.read_csv(population_file)\n",
    "\n",
    "# Close the file now that we're done reading from it\n",
    "print(population_data.head())"
   ]
  },
  {
   "cell_type": "markdown",
   "id": "c8bc3180",
   "metadata": {},
   "source": [
    "Make sure the `assert`s pass, ensuring that `population_data` has the correct type."
   ]
  },
  {
   "cell_type": "code",
   "execution_count": 104,
   "id": "97c8b482",
   "metadata": {
    "execution": {
     "iopub.execute_input": "2025-07-28T18:17:13.693765Z",
     "iopub.status.busy": "2025-07-28T18:17:13.693143Z",
     "iopub.status.idle": "2025-07-28T18:17:13.783359Z",
     "shell.execute_reply": "2025-07-28T18:17:13.782077Z"
    }
   },
   "outputs": [],
   "source": [
    "# Run this cell without changes\n",
    "\n",
    "# Check that the overall data structure is a list\n",
    "poplulation_data = pd.read_csv(\"country_populations.csv\")\n",
    "population_data = population_data.to_dict(orient=\"records\")\n",
    "assert type(population_data) == list\n",
    "\n",
    "# Check that the 0th element is a dictionary\n",
    "# (csv.DictReader interface differs slightly by Python version;\n",
    "# either a dict or an OrderedDict is fine here)\n",
    "from collections import OrderedDict\n",
    "\n",
    "assert type(population_data[0]) == dict or type(population_data[0]) == OrderedDict"
   ]
  },
  {
   "cell_type": "markdown",
   "id": "11efaaf4",
   "metadata": {},
   "source": [
    "## 1. List of Teams in 2018 World Cup\n",
    "\n",
    "> Create an alphabetically-sorted list of teams who competed in the 2018 FIFA World Cup.\n",
    "\n",
    "This will take several steps, some of which have been completed for you.\n",
    "\n",
    "### Exploring the Structure of the World Cup Data JSON\n",
    "\n",
    "Let's start by exploring the structure of `world_cup_data`. Here is a pretty-printed preview of its contents:\n",
    "\n",
    "```\n",
    "{\n",
    "  \"name\": \"World Cup 2018\",\n",
    "  \"rounds\": [\n",
    "    {\n",
    "      \"name\": \"Matchday 1\",\n",
    "      \"matches\": [\n",
    "        {\n",
    "          \"num\": 1,\n",
    "          \"date\": \"2018-06-14\",\n",
    "          \"time\": \"18:00\",\n",
    "          \"team1\": { \"name\": \"Russia\",       \"code\": \"RUS\" },\n",
    "          \"team2\": { \"name\": \"Saudi Arabia\", \"code\": \"KSA\" },\n",
    "          \"score1\":  5,\n",
    "          \"score2\":  0,\n",
    "          \"score1i\": 2,\n",
    "          \"score2i\": 0,\n",
    "          \"goals1\": [\n",
    "            { \"name\": \"Gazinsky\",   \"minute\": 12,              \"score1\": 1, \"score2\": 0 },\n",
    "            { \"name\": \"Cheryshev\",  \"minute\": 43,              \"score1\": 2, \"score2\": 0 },\n",
    "            { \"name\": \"Dzyuba\",     \"minute\": 71,              \"score1\": 3, \"score2\": 0 },\n",
    "            { \"name\": \"Cheryshev\",  \"minute\": 90, \"offset\": 1, \"score1\": 4, \"score2\": 0 },\n",
    "            { \"name\": \"Golovin\",    \"minute\": 90, \"offset\": 4, \"score1\": 5, \"score2\": 0 }\n",
    "          ],\n",
    "          \"goals2\": [],\n",
    "          \"group\": \"Group A\",\n",
    "          \"stadium\": { \"key\": \"luzhniki\", \"name\": \"Luzhniki Stadium\" },\n",
    "          \"city\": \"Moscow\",\n",
    "          \"timezone\": \"UTC+3\"\n",
    "        }\n",
    "      ]\n",
    "    },\n",
    "    {\n",
    "      \"name\": \"Matchday 2\",\n",
    "      \"matches\": [\n",
    "        {\n",
    "          \"num\": 2,\n",
    "          \"date\": \"2018-06-15\",\n",
    "          \"time\": \"17:00\",\n",
    "          \"team1\": { \"name\": \"Egypt\",   \"code\": \"EGY\" },\n",
    "          \"team2\": { \"name\": \"Uruguay\", \"code\": \"URU\" },\n",
    "          \"score1\":  0,\n",
    "          \"score2\":  1,\n",
    "          \"score1i\": 0,\n",
    "          \"score2i\": 0,\n",
    "          \"goals1\": [],\n",
    "          \"goals2\": [\n",
    "            { \"name\": \"Giménez\",  \"minute\": 89,  \"score1\": 0, \"score2\": 1 }\n",
    "          ],\n",
    "          \"group\": \"Group A\",\n",
    "          \"stadium\": { \"key\": \"ekaterinburg\", \"name\": \"Ekaterinburg Arena\" },          \n",
    "          \"city\": \"Ekaterinburg\",\n",
    "          \"timezone\": \"UTC+5\"\n",
    "        },\n",
    "        ...\n",
    "      ],\n",
    "    },\n",
    "  ],  \n",
    "}\n",
    "```\n",
    "\n",
    "As noted previously, `world_cup_data` is a dictionary with two keys, 'name' and 'rounds'."
   ]
  },
  {
   "cell_type": "code",
   "execution_count": 105,
   "id": "950999d6",
   "metadata": {
    "execution": {
     "iopub.execute_input": "2025-07-28T18:17:13.788570Z",
     "iopub.status.busy": "2025-07-28T18:17:13.788141Z",
     "iopub.status.idle": "2025-07-28T18:17:13.796273Z",
     "shell.execute_reply": "2025-07-28T18:17:13.795055Z"
    }
   },
   "outputs": [],
   "source": [
    "# Run this cell without changes\n",
    "import json\n",
    "\n",
    "# Load the world cup data from the JSON file\n",
    "with open(\"world-cup-Data Base.json\", \"r\") as file:\n",
    "    world_cup_data = json.load(file)\n",
    "\n",
    "\n"
   ]
  },
  {
   "cell_type": "code",
   "execution_count": 106,
   "id": "1bd967d9",
   "metadata": {
    "execution": {
     "iopub.execute_input": "2025-07-28T18:17:13.801470Z",
     "iopub.status.busy": "2025-07-28T18:17:13.800968Z",
     "iopub.status.idle": "2025-07-28T18:17:13.809513Z",
     "shell.execute_reply": "2025-07-28T18:17:13.808436Z"
    }
   },
   "outputs": [
    {
     "data": {
      "text/plain": [
       "dict_keys(['name', 'rounds'])"
      ]
     },
     "execution_count": 106,
     "metadata": {},
     "output_type": "execute_result"
    }
   ],
   "source": [
    "world_cup_data.keys()\n"
   ]
  },
  {
   "cell_type": "code",
   "execution_count": 107,
   "id": "eeca0dd0",
   "metadata": {
    "execution": {
     "iopub.execute_input": "2025-07-28T18:17:13.814498Z",
     "iopub.status.busy": "2025-07-28T18:17:13.814040Z",
     "iopub.status.idle": "2025-07-28T18:17:13.820455Z",
     "shell.execute_reply": "2025-07-28T18:17:13.819313Z"
    }
   },
   "outputs": [
    {
     "data": {
      "text/plain": [
       "'World Cup 2018'"
      ]
     },
     "execution_count": 107,
     "metadata": {},
     "output_type": "execute_result"
    }
   ],
   "source": [
    "# Run this cell without changes\n",
    "world_cup_data[\"name\"]"
   ]
  },
  {
   "cell_type": "markdown",
   "id": "4ab5addd",
   "metadata": {},
   "source": [
    "### Extracting Rounds\n",
    "\n",
    "The value associated with the 'rounds' key is a list containing all of the actual information about the rounds and the matches within those rounds."
   ]
  },
  {
   "cell_type": "code",
   "execution_count": 108,
   "id": "e3a8fda0",
   "metadata": {
    "execution": {
     "iopub.execute_input": "2025-07-28T18:17:13.825217Z",
     "iopub.status.busy": "2025-07-28T18:17:13.824796Z",
     "iopub.status.idle": "2025-07-28T18:17:13.833507Z",
     "shell.execute_reply": "2025-07-28T18:17:13.832834Z"
    }
   },
   "outputs": [
    {
     "name": "stdout",
     "output_type": "stream",
     "text": [
      "type(rounds): <class 'list'>\n",
      "len(rounds): 20\n",
      "type(rounds[3]) <class 'dict'>\n",
      "rounds[3]:\n"
     ]
    },
    {
     "data": {
      "text/plain": [
       "{'name': 'Matchday 4',\n",
       " 'matches': [{'num': 9,\n",
       "   'date': '2018-06-17',\n",
       "   'time': '21:00',\n",
       "   'team1': {'name': 'Brazil', 'code': 'BRA'},\n",
       "   'team2': {'name': 'Switzerland', 'code': 'SUI'},\n",
       "   'score1': 1,\n",
       "   'score2': 1,\n",
       "   'score1i': 1,\n",
       "   'score2i': 0,\n",
       "   'goals1': [{'name': 'Coutinho', 'minute': 20, 'score1': 1, 'score2': 0}],\n",
       "   'goals2': [{'name': 'Zuber', 'minute': 50, 'score1': 1, 'score2': 1}],\n",
       "   'group': 'Group E',\n",
       "   'stadium': {'key': 'rostov', 'name': 'Rostov Arena'},\n",
       "   'city': 'Rostov-on-Don',\n",
       "   'timezone': 'UTC+3'},\n",
       "  {'num': 10,\n",
       "   'date': '2018-06-17',\n",
       "   'time': '16:00',\n",
       "   'team1': {'name': 'Costa Rica', 'code': 'CRC'},\n",
       "   'team2': {'name': 'Serbia', 'code': 'SRB'},\n",
       "   'score1': 0,\n",
       "   'score2': 1,\n",
       "   'score1i': 0,\n",
       "   'score2i': 0,\n",
       "   'goals1': [],\n",
       "   'goals2': [{'name': 'Kolarov', 'minute': 56, 'score1': 0, 'score2': 1}],\n",
       "   'group': 'Group E',\n",
       "   'stadium': {'key': 'samara', 'name': 'Samara Arena'},\n",
       "   'city': 'Samara',\n",
       "   'timezone': 'UTC+4'},\n",
       "  {'num': 11,\n",
       "   'date': '2018-06-17',\n",
       "   'time': '18:00',\n",
       "   'team1': {'name': 'Germany', 'code': 'GER'},\n",
       "   'team2': {'name': 'Mexico', 'code': 'MEX'},\n",
       "   'score1': 0,\n",
       "   'score2': 1,\n",
       "   'score1i': 0,\n",
       "   'score2i': 1,\n",
       "   'goals1': [],\n",
       "   'goals2': [{'name': 'Lozano', 'minute': 35, 'score1': 0, 'score2': 1}],\n",
       "   'group': 'Group F',\n",
       "   'stadium': {'key': 'luzhniki', 'name': 'Luzhniki Stadium'},\n",
       "   'city': 'Moscow',\n",
       "   'timezone': 'UTC+3'}]}"
      ]
     },
     "execution_count": 108,
     "metadata": {},
     "output_type": "execute_result"
    }
   ],
   "source": [
    "# Run this cell without changes\n",
    "rounds = world_cup_data[\"rounds\"]\n",
    "\n",
    "print(\"type(rounds):\", type(rounds))\n",
    "print(\"len(rounds):\", len(rounds))\n",
    "print(\"type(rounds[3])\", type(rounds[3]))\n",
    "print(\"rounds[3]:\")\n",
    "rounds[3]"
   ]
  },
  {
   "cell_type": "markdown",
   "id": "bf5c51de",
   "metadata": {},
   "source": [
    "Translating this output into English:\n",
    "\n",
    "Starting with the original `world_cup_data` dictionary, we used the key `\"rounds\"` to extract a list of rounds, which we assigned to the variable `rounds`.\n",
    "\n",
    "`rounds` is a list of dictionaries. Each dictionary inside of `rounds` contains a name (e.g. `\"Matchday 4\"`) as well as a list of matches."
   ]
  },
  {
   "cell_type": "markdown",
   "id": "b32f73e1",
   "metadata": {},
   "source": [
    "### Extracting Matches\n",
    "\n",
    "Now we can go one level deeper and extract all of the matches in the tournament. Because the round is irrelevant for this analysis, we can loop over all rounds and combine all of their matches into a single list.\n",
    "\n",
    "**Hint:** This is a good use case for using the `.extend` list method rather than `.append`, since we want to combine several lists of dictionaries into a single list of dictionaries, not a list of lists of dictionaries. [Documentation here.](https://docs.python.org/3/tutorial/datastructures.html#more-on-lists)"
   ]
  },
  {
   "cell_type": "code",
   "execution_count": 109,
   "id": "492e0fe9",
   "metadata": {
    "execution": {
     "iopub.execute_input": "2025-07-28T18:17:13.838756Z",
     "iopub.status.busy": "2025-07-28T18:17:13.838255Z",
     "iopub.status.idle": "2025-07-28T18:17:13.845372Z",
     "shell.execute_reply": "2025-07-28T18:17:13.844513Z"
    }
   },
   "outputs": [
    {
     "data": {
      "text/plain": [
       "{'num': 1,\n",
       " 'date': '2018-06-14',\n",
       " 'time': '18:00',\n",
       " 'team1': {'name': 'Russia', 'code': 'RUS'},\n",
       " 'team2': {'name': 'Saudi Arabia', 'code': 'KSA'},\n",
       " 'score1': 5,\n",
       " 'score2': 0,\n",
       " 'score1i': 2,\n",
       " 'score2i': 0,\n",
       " 'goals1': [{'name': 'Gazinsky', 'minute': 12, 'score1': 1, 'score2': 0},\n",
       "  {'name': 'Cheryshev', 'minute': 43, 'score1': 2, 'score2': 0},\n",
       "  {'name': 'Dzyuba', 'minute': 71, 'score1': 3, 'score2': 0},\n",
       "  {'name': 'Cheryshev', 'minute': 90, 'offset': 1, 'score1': 4, 'score2': 0},\n",
       "  {'name': 'Golovin', 'minute': 90, 'offset': 4, 'score1': 5, 'score2': 0}],\n",
       " 'goals2': [],\n",
       " 'group': 'Group A',\n",
       " 'stadium': {'key': 'luzhniki', 'name': 'Luzhniki Stadium'},\n",
       " 'city': 'Moscow',\n",
       " 'timezone': 'UTC+3'}"
      ]
     },
     "execution_count": 109,
     "metadata": {},
     "output_type": "execute_result"
    }
   ],
   "source": [
    "# Replace None with appropriate code\n",
    "matches = []\n",
    "\n",
    "# \"round\" is a built-in function in Python so we use \"round_\" instead\n",
    "for round_ in rounds:\n",
    "    # Extract the list of matches for this round\n",
    "    round_matches = round_[\"matches\"]\n",
    "    # Add them to the overall list of matches\n",
    "    matches.extend(round_matches)\n",
    "\n",
    "matches[0]"
   ]
  },
  {
   "cell_type": "markdown",
   "id": "af0d59b0",
   "metadata": {},
   "source": [
    "Make sure the `assert`s pass before moving on to the next step."
   ]
  },
  {
   "cell_type": "code",
   "execution_count": 110,
   "id": "bc900e28",
   "metadata": {
    "execution": {
     "iopub.execute_input": "2025-07-28T18:17:13.850542Z",
     "iopub.status.busy": "2025-07-28T18:17:13.850073Z",
     "iopub.status.idle": "2025-07-28T18:17:13.855839Z",
     "shell.execute_reply": "2025-07-28T18:17:13.855026Z"
    }
   },
   "outputs": [],
   "source": [
    "# Run this cell without changes\n",
    "\n",
    "# There should be 64 matches. If the length is 20, that means\n",
    "# you have a list of lists instead of a list of dictionaries\n",
    "assert len(matches) == 64\n",
    "\n",
    "# Each match in the list should be a dictionary\n",
    "assert type(matches[0]) == dict"
   ]
  },
  {
   "cell_type": "markdown",
   "id": "b8d511a5",
   "metadata": {},
   "source": [
    "### Extracting Teams\n",
    "\n",
    "Each match has a `team1` and a `team2`. "
   ]
  },
  {
   "cell_type": "code",
   "execution_count": 111,
   "id": "308dc705",
   "metadata": {
    "execution": {
     "iopub.execute_input": "2025-07-28T18:17:13.861748Z",
     "iopub.status.busy": "2025-07-28T18:17:13.861034Z",
     "iopub.status.idle": "2025-07-28T18:17:13.866751Z",
     "shell.execute_reply": "2025-07-28T18:17:13.865728Z"
    }
   },
   "outputs": [
    {
     "name": "stdout",
     "output_type": "stream",
     "text": [
      "{'name': 'Russia', 'code': 'RUS'}\n",
      "{'name': 'Saudi Arabia', 'code': 'KSA'}\n"
     ]
    }
   ],
   "source": [
    "# Run this cell without changes\n",
    "print(matches[0][\"team1\"])\n",
    "print(matches[0][\"team2\"])"
   ]
  },
  {
   "cell_type": "markdown",
   "id": "106f2f39",
   "metadata": {},
   "source": [
    "Create a list of all unique team names by looping over every match in `matches` and adding the `\"name\"` values associated with both `team1` and `team2`. (Same as before when creating a list of matches, it doesn't matter right now whether a given team was \"team1\" or \"team2\", we just add everything to `teams`.)\n",
    "\n",
    "We'll use a `set` data type ([documentation here](https://docs.python.org/3/library/stdtypes.html#set-types-set-frozenset)) to ensure unique teams, then convert it to a sorted list at the end."
   ]
  },
  {
   "cell_type": "code",
   "execution_count": 112,
   "id": "80294160",
   "metadata": {
    "execution": {
     "iopub.execute_input": "2025-07-28T18:17:13.872036Z",
     "iopub.status.busy": "2025-07-28T18:17:13.871491Z",
     "iopub.status.idle": "2025-07-28T18:17:13.878669Z",
     "shell.execute_reply": "2025-07-28T18:17:13.877763Z"
    }
   },
   "outputs": [
    {
     "name": "stdout",
     "output_type": "stream",
     "text": [
      "['Argentina', 'Australia', 'Belgium', 'Brazil', 'Colombia', 'Costa Rica', 'Croatia', 'Denmark', 'Egypt', 'England', 'France', 'Germany', 'Iceland', 'Iran', 'Japan', 'Mexico', 'Morocco', 'Nigeria', 'Panama', 'Peru', 'Poland', 'Portugal', 'Russia', 'Saudi Arabia', 'Senegal', 'Serbia', 'South Korea', 'Spain', 'Sweden', 'Switzerland', 'Tunisia', 'Uruguay']\n"
     ]
    }
   ],
   "source": [
    "# Replace None with appropriate code\n",
    "teams_set = set()\n",
    "\n",
    "for match in matches:\n",
    "    # Add team1 name value to teams_set\n",
    "    teams_set.add(match[\"team1\"][\"name\"])\n",
    "    # Add team2 name value to teams_set\n",
    "    teams_set.add(match[\"team2\"][\"name\"])\n",
    "\n",
    "teams = sorted(list(teams_set))\n",
    "print(teams)"
   ]
  },
  {
   "cell_type": "markdown",
   "id": "1afc622d",
   "metadata": {},
   "source": [
    "Make sure the `assert`s pass before moving on to the next step."
   ]
  },
  {
   "cell_type": "code",
   "execution_count": 113,
   "id": "7394c5fe",
   "metadata": {
    "execution": {
     "iopub.execute_input": "2025-07-28T18:17:13.883608Z",
     "iopub.status.busy": "2025-07-28T18:17:13.883046Z",
     "iopub.status.idle": "2025-07-28T18:17:13.888298Z",
     "shell.execute_reply": "2025-07-28T18:17:13.887474Z"
    }
   },
   "outputs": [],
   "source": [
    "# Run this cell without changes\n",
    "\n",
    "# teams should be a list, not a set\n",
    "assert type(teams) == list\n",
    "\n",
    "# 32 teams competed in the 2018 World Cup\n",
    "assert len(teams) == 32\n",
    "\n",
    "# Each element of teams should be a string\n",
    "# (the name), not a dictionary\n",
    "assert type(teams[0]) == str"
   ]
  },
  {
   "cell_type": "markdown",
   "id": "7a0d947b",
   "metadata": {},
   "source": [
    "Step 1 complete. We have unique identifiers (names) for each of our records (countries) that we will be able to use to connect 2018 World Cup performance to 2018 population."
   ]
  },
  {
   "cell_type": "markdown",
   "id": "1f6d2cef",
   "metadata": {},
   "source": [
    "## 2. Associating Countries with 2018 World Cup Performance\n",
    "\n",
    "> Create a data structure that connects a team name (country name) to its performance in the 2018 FIFA World Cup. We'll use the count of games won in the entire tournament (group stage as well as knockout stage) to represent the performance.\n",
    "\n",
    "> Also, create visualizations to help the reader understand the distribution of games won and the performance of each team.\n",
    "\n",
    "So, we are building a **data structure** that connects a country name to the number of wins. There is no universal correct format for a data structure with this purpose, but we are going to use a format that resembles the \"dataframe\" format that will be introduced later in the course.\n",
    "\n",
    "Specifically, we'll build a **dictionary** where each key is the name of a country, and each value is a nested dictionary containing information about the number of wins and the 2018 population.\n",
    "\n",
    "The final result will look something like this:\n",
    "```\n",
    "{\n",
    "  'Argentina': { 'wins': 1, 'population': 44494502 },\n",
    "  ...\n",
    "  'Uruguay':   { 'wins': 4, 'population': 3449299  }\n",
    "}\n",
    "```\n",
    "\n",
    "For the current step (step 2), we'll build a data structure that looks something like this:\n",
    "```\n",
    "{\n",
    "  'Argentina': { 'wins': 1 },\n",
    "  ...\n",
    "  'Uruguay':   { 'wins': 4 }\n",
    "}\n",
    "```\n",
    "\n",
    "### Initializing with Wins Set to Zero\n",
    "\n",
    "Start by initializing a dictionary called `combined_data` containing:\n",
    "\n",
    "* Keys: the strings from `teams`\n",
    "* Values: each value the same, a dictionary containing the key `'wins'` with the associated value `0`. However, note that each value should be a distinct dictionary object in memory, not the same dictionary linked as a value in multiple places.\n",
    "\n",
    "Initially `combined_data` will look something like this:\n",
    "```\n",
    "{\n",
    "  'Argentina': { 'wins': 0 },\n",
    "  ...\n",
    "  'Uruguay':   { 'wins': 0 }\n",
    "}\n",
    "```"
   ]
  },
  {
   "cell_type": "code",
   "execution_count": 114,
   "id": "ccb158d4",
   "metadata": {
    "execution": {
     "iopub.execute_input": "2025-07-28T18:17:13.892948Z",
     "iopub.status.busy": "2025-07-28T18:17:13.892548Z",
     "iopub.status.idle": "2025-07-28T18:17:13.900090Z",
     "shell.execute_reply": "2025-07-28T18:17:13.898897Z"
    }
   },
   "outputs": [
    {
     "name": "stdout",
     "output_type": "stream",
     "text": [
      "{'France': {'wins': 0}, 'Croatia': {'wins': 0}, 'Belgium': {'wins': 0}, 'England': {'wins': 0}, 'Uruguay': {'wins': 0}, 'Brazil': {'wins': 0}, 'Sweden': {'wins': 0}, 'Russia': {'wins': 0}, 'Colombia': {'wins': 0}, 'Switzerland': {'wins': 0}, 'Japan': {'wins': 0}, 'Mexico': {'wins': 0}, 'Denmark': {'wins': 0}, 'Spain': {'wins': 0}, 'Portugal': {'wins': 0}, 'Argentina': {'wins': 0}, 'Germany': {'wins': 0}, 'Netherlands': {'wins': 0}, 'Chile': {'wins': 0}, 'USA': {'wins': 0}, 'Italy': {'wins': 0}, 'Nigeria': {'wins': 0}, 'South Korea': {'wins': 0}, 'Australia': {'wins': 0}, 'Greece': {'wins': 0}, 'Ghana': {'wins': 0}, 'Turkey': {'wins': 0}, 'Paraguay': {'wins': 0}, 'Slovakia': {'wins': 0}, 'Algeria': {'wins': 0}, 'Iran': {'wins': 0}, 'Costa Rica': {'wins': 0}}\n"
     ]
    }
   ],
   "source": [
    "# Replace None with appropriate code\n",
    "\n",
    "# Create the variable combined_data as described above\n",
    "# Ensure 'teams' is defined\n",
    "teams = [\n",
    "    'France', 'Croatia', 'Belgium', 'England', 'Uruguay', 'Brazil', 'Sweden', 'Russia',\n",
    "    'Colombia', 'Switzerland', 'Japan', 'Mexico', 'Denmark', 'Spain', 'Portugal',\n",
    "    'Argentina', 'Germany', 'Netherlands', 'Chile', 'USA', 'Italy', 'Nigeria', 'South Korea',\n",
    "    'Australia', 'Greece', 'Ghana', 'Turkey', 'Paraguay', 'Slovakia', 'Algeria', 'Iran', 'Costa Rica'\n",
    "]\n",
    "\n",
    "# Create combined_data with 0 wins for each team\n",
    "combined_data = {team: {'wins': 0} for team in teams}\n",
    "\n",
    "print(combined_data)\n",
    "                      "
   ]
  },
  {
   "cell_type": "markdown",
   "id": "20cda828",
   "metadata": {},
   "source": [
    "Check that the `assert`s pass."
   ]
  },
  {
   "cell_type": "code",
   "execution_count": 115,
   "id": "3b54a454",
   "metadata": {
    "execution": {
     "iopub.execute_input": "2025-07-28T18:17:13.905664Z",
     "iopub.status.busy": "2025-07-28T18:17:13.905266Z",
     "iopub.status.idle": "2025-07-28T18:17:13.910773Z",
     "shell.execute_reply": "2025-07-28T18:17:13.909950Z"
    }
   },
   "outputs": [],
   "source": [
    "# Run this cell without changes\n",
    "\n",
    "# combined_data should be a dictionary\n",
    "assert type(combined_data) == dict\n",
    "\n",
    "# the keys should be strings\n",
    "assert type(list(combined_data.keys())[0]) == str\n",
    "\n",
    "# the values should be dictionaries\n",
    "assert combined_data[\"Japan\"] == {\"wins\": 0}"
   ]
  },
  {
   "cell_type": "markdown",
   "id": "c5be2c97",
   "metadata": {},
   "source": [
    "### Adding Wins from Matches\n",
    "\n",
    "Now it's time to revisit the `matches` list from earlier, in order to associate a team with the number of times it has won a match.\n",
    "\n",
    "This time, let's write some functions to help organize our logic.\n",
    "\n",
    "Write a function `find_winner` that takes in a `match` dictionary, and returns the name of the team that won the match.  Recall that a match is structured like this:\n",
    "\n",
    "```\n",
    "{\n",
    "  'num': 1,\n",
    "  'date': '2018-06-14',\n",
    "  'time': '18:00',\n",
    "  'team1': { 'name': 'Russia',       'code': 'RUS' },\n",
    "  'team2': { 'name': 'Saudi Arabia', 'code': 'KSA' },\n",
    "  'score1': 5,\n",
    "  'score2': 0,\n",
    "  'score1i': 2,\n",
    "  'score2i': 0,\n",
    "  'goals1': [\n",
    "    { 'name': 'Gazinsky',  'minute': 12, 'score1': 1, 'score2': 0 },\n",
    "    { 'name': 'Cheryshev', 'minute': 43, 'score1': 2, 'score2': 0 },\n",
    "    { 'name': 'Dzyuba',    'minute': 71, 'score1': 3, 'score2': 0 },\n",
    "    { 'name': 'Cheryshev', 'minute': 90, 'offset': 1, 'score1': 4, 'score2': 0 },\n",
    "    { 'name': 'Golovin',   'minute': 90, 'offset': 4, 'score1': 5, 'score2': 0 }\n",
    "  ],\n",
    "  'goals2': [],\n",
    "  'group': 'Group A',\n",
    "  'stadium': { 'key': 'luzhniki', 'name': 'Luzhniki Stadium' },\n",
    "  'city': 'Moscow',\n",
    "  'timezone': 'UTC+3'\n",
    "}\n",
    "```\n",
    "\n",
    "The winner is determined by comparing the values associated with the `'score1'` and `'score2'` keys. If score 1 is larger, then the name associated with the `'team1'` key is the winner. If score 2 is larger, then the name associated with the `'team2'` key is the winner. If the values are the same, there is no winner, so return `None`. (Unlike the group round of the World Cup, we are only counting *wins* as our \"performance\" construct, not 3 points for a win and 1 point for a tie.)"
   ]
  },
  {
   "cell_type": "code",
   "execution_count": 116,
   "id": "c683636b",
   "metadata": {
    "execution": {
     "iopub.execute_input": "2025-07-28T18:17:13.915331Z",
     "iopub.status.busy": "2025-07-28T18:17:13.914833Z",
     "iopub.status.idle": "2025-07-28T18:17:13.919917Z",
     "shell.execute_reply": "2025-07-28T18:17:13.918729Z"
    }
   },
   "outputs": [],
   "source": [
    "# Replace None with appropriate code\n",
    "\n",
    "\n",
    "def find_winner(match):\n",
    "    \"\"\"\n",
    "    Given a dictionary containing information about a match,\n",
    "    return the name of the winner (or None in the case of a tie)\n",
    "    \"\"\"\n",
    "    if match['score1']>match['score2']:\n",
    "        return match['team1']['name']\n",
    "    elif match['score2']>match['score1']:\n",
    "        return match['team2']['name']\n",
    "    else:\n",
    "        return None"
   ]
  },
  {
   "cell_type": "code",
   "execution_count": 117,
   "id": "15c8b5e6",
   "metadata": {
    "execution": {
     "iopub.execute_input": "2025-07-28T18:17:13.925877Z",
     "iopub.status.busy": "2025-07-28T18:17:13.925293Z",
     "iopub.status.idle": "2025-07-28T18:17:13.931268Z",
     "shell.execute_reply": "2025-07-28T18:17:13.930350Z"
    }
   },
   "outputs": [],
   "source": [
    "# Run this cell without changes\n",
    "assert find_winner(matches[0]) == \"Russia\"\n",
    "assert find_winner(matches[1]) == \"Uruguay\"\n",
    "assert find_winner(matches[2]) == None"
   ]
  },
  {
   "cell_type": "markdown",
   "id": "c1a02a19",
   "metadata": {},
   "source": [
    "Now that we have this helper function, loop over every match in `matches`, find the winner, and add 1 to the associated count of wins in `combined_data`. If the winner is `None`, skip adding it to the dictionary."
   ]
  },
  {
   "cell_type": "code",
   "execution_count": 118,
   "id": "acdd0ed3",
   "metadata": {
    "execution": {
     "iopub.execute_input": "2025-07-28T18:17:13.936200Z",
     "iopub.status.busy": "2025-07-28T18:17:13.935786Z",
     "iopub.status.idle": "2025-07-28T18:17:13.941930Z",
     "shell.execute_reply": "2025-07-28T18:17:13.940941Z"
    }
   },
   "outputs": [
    {
     "name": "stdout",
     "output_type": "stream",
     "text": [
      "{'France': {'wins': 6}, 'Croatia': {'wins': 3}, 'Belgium': {'wins': 6}, 'England': {'wins': 3}, 'Uruguay': {'wins': 4}, 'Brazil': {'wins': 3}, 'Sweden': {'wins': 3}, 'Russia': {'wins': 2}, 'Colombia': {'wins': 2}, 'Switzerland': {'wins': 1}, 'Japan': {'wins': 1}, 'Mexico': {'wins': 2}, 'Denmark': {'wins': 1}, 'Spain': {'wins': 1}, 'Portugal': {'wins': 1}, 'Argentina': {'wins': 1}, 'Germany': {'wins': 1}, 'Netherlands': {'wins': 0}, 'Chile': {'wins': 0}, 'USA': {'wins': 0}, 'Italy': {'wins': 0}, 'Nigeria': {'wins': 1}, 'South Korea': {'wins': 1}, 'Australia': {'wins': 0}, 'Greece': {'wins': 0}, 'Ghana': {'wins': 0}, 'Turkey': {'wins': 0}, 'Paraguay': {'wins': 0}, 'Slovakia': {'wins': 0}, 'Algeria': {'wins': 0}, 'Iran': {'wins': 1}, 'Costa Rica': {'wins': 0}}\n"
     ]
    }
   ],
   "source": [
    "# Replace None with appropriate code\n",
    "for match in matches:\n",
    "    # Get the name of the winner\n",
    "    winner = find_winner(match)\n",
    "\n",
    "    # Only proceed to the next step if there was a winner and it's in the combined_data dictionary\n",
    "    if winner and winner in combined_data:\n",
    "        # Add 1 to the associated count of wins\n",
    "        combined_data[winner]['wins'] += 1\n",
    "\n",
    "# Visually inspect the output to ensure the wins are different for different countries\n",
    "print(combined_data)\n"
   ]
  },
  {
   "cell_type": "markdown",
   "id": "826a4723",
   "metadata": {},
   "source": [
    "### Analysis of Wins\n",
    "\n",
    "While we could try to understand all 32 of those numbers just by scanning through them, let's use some descriptive statistics and data visualizations instead\n",
    "\n",
    "#### Statistical Summary of Wins\n",
    "\n",
    "The code below calculates the mean, median, and standard deviation of the number of wins. If it doesn't work, that is an indication that something went wrong with the creation of the `combined_data` variable, and you might want to look at the solution branch and fix your code before proceeding."
   ]
  },
  {
   "cell_type": "code",
   "execution_count": 119,
   "id": "6afbc4bf",
   "metadata": {
    "execution": {
     "iopub.execute_input": "2025-07-28T18:17:13.946152Z",
     "iopub.status.busy": "2025-07-28T18:17:13.945731Z",
     "iopub.status.idle": "2025-07-28T18:17:13.951958Z",
     "shell.execute_reply": "2025-07-28T18:17:13.951037Z"
    }
   },
   "outputs": [
    {
     "name": "stdout",
     "output_type": "stream",
     "text": [
      "Mean number of wins: 1.375\n",
      "Median number of wins: 1.0\n",
      "Standard deviation of number of wins: 1.6345871038277526\n"
     ]
    }
   ],
   "source": [
    "# Run this cell without changes\n",
    "import numpy as np\n",
    "\n",
    "wins = [val[\"wins\"] for val in combined_data.values()]\n",
    "\n",
    "print(\"Mean number of wins:\", np.mean(wins))\n",
    "print(\"Median number of wins:\", np.median(wins))\n",
    "print(\"Standard deviation of number of wins:\", np.std(wins))"
   ]
  },
  {
   "cell_type": "markdown",
   "id": "fc4b2588",
   "metadata": {},
   "source": [
    "#### Visualizations of Wins\n",
    "\n",
    "In addition to those numbers, let's make a histogram (showing the distributions of the number of wins) and a bar graph (showing the number of wins by country)."
   ]
  },
  {
   "cell_type": "code",
   "execution_count": 120,
   "id": "da2de592",
   "metadata": {
    "execution": {
     "iopub.execute_input": "2025-07-28T18:17:13.956820Z",
     "iopub.status.busy": "2025-07-28T18:17:13.956321Z",
     "iopub.status.idle": "2025-07-28T18:17:16.086277Z",
     "shell.execute_reply": "2025-07-28T18:17:16.085261Z"
    }
   },
   "outputs": [
    {
     "data": {
      "image/png": "[encoded data removed]",
      "text/plain": [
       "<Figure size 1200x700 with 2 Axes>"
      ]
     },
     "metadata": {},
     "output_type": "display_data"
    }
   ],
   "source": [
    "# Run this cell without changes\n",
    "import matplotlib.pyplot as plt\n",
    "\n",
    "# Set up figure and axes\n",
    "fig, (ax1, ax2) = plt.subplots(ncols=2, figsize=(12, 7))\n",
    "fig.set_tight_layout(True)\n",
    "\n",
    "# Histogram of Wins and Frequencies\n",
    "ax1.hist(x=wins, bins=range(8), align=\"left\", color=\"green\")\n",
    "ax1.set_xticks(range(7))\n",
    "ax1.set_xlabel(\"Wins in 2018 World Cup\")\n",
    "ax1.set_ylabel(\"Frequency\")\n",
    "ax1.set_title(\"Distribution of Wins\")\n",
    "\n",
    "# Horizontal Bar Graph of Wins by Country\n",
    "ax2.barh(teams[::-1], wins[::-1], color=\"green\")\n",
    "ax2.set_xlabel(\"Wins in 2018 World Cup\")\n",
    "ax2.set_title(\"Wins by Country\");"
   ]
  },
  {
   "cell_type": "markdown",
   "id": "09fe1bc7",
   "metadata": {},
   "source": [
    "#### Interpretation of Win Analysis\n",
    "\n",
    "Before we move to looking at the relationship between wins and population, it's useful to understand the distribution of wins alone. A few notes of interpretation:\n",
    "\n",
    "* The number of wins is skewed and looks like a [negative binomial distribution](https://en.wikipedia.org/wiki/Negative_binomial_distribution), which makes sense conceptually\n",
    "* The \"typical\" value here is 1 (both the median and the highest point of the histogram), meaning a typical team that qualifies for the World Cup wins once\n",
    "* There are a few teams we might consider outliers: Belgium and France, with 6x the wins of the \"typical\" team and 1.5x the wins of the next \"runner-up\" (Uruguay, with 4 wins)\n",
    "* This is a fairly small dataset, something that becomes more noticeable with such a \"spiky\" (not smooth) histogram\n"
   ]
  },
  {
   "cell_type": "markdown",
   "id": "00e79534",
   "metadata": {},
   "source": [
    "## 3. Associating Countries with 2018 Population\n",
    "\n",
    "> Add to the existing data structure so that it also connects each country name to its 2018 population, and create visualizations comparable to those from step 2.\n",
    "\n",
    "Now we're ready to add the 2018 population to `combined_data`, finally using the CSV file\n",
    "\n",
    "Recall that `combined_data` currently looks something like this:\n",
    "```\n",
    "{\n",
    "  'Argentina': { 'wins': 1 },\n",
    "  ...\n",
    "  'Uruguay':   { 'wins': 4 }\n",
    "}\n",
    "```\n",
    "\n",
    "And the goal is for it to look something like this:\n",
    "```\n",
    "{\n",
    "  'Argentina': { 'wins': 1, 'population': 44494502 },\n",
    "  ...\n",
    "  'Uruguay':   { 'wins': 4, 'population': 3449299  }\n",
    "}\n",
    "```\n",
    "\n",
    "To do that, we need to extract the 2018 population information from the CSV data.\n",
    "\n",
    "### Exploring the Structure of the Population Data CSV\n",
    "\n",
    "Recall that previously we loaded information from a CSV containing population data into a list of dictionaries called `population_data`."
   ]
  },
  {
   "cell_type": "code",
   "execution_count": 121,
   "id": "9ecdf4e3",
   "metadata": {
    "execution": {
     "iopub.execute_input": "2025-07-28T18:17:16.100414Z",
     "iopub.status.busy": "2025-07-28T18:17:16.096656Z",
     "iopub.status.idle": "2025-07-28T18:17:16.107478Z",
     "shell.execute_reply": "2025-07-28T18:17:16.106437Z"
    }
   },
   "outputs": [
    {
     "data": {
      "text/plain": [
       "12695"
      ]
     },
     "execution_count": 121,
     "metadata": {},
     "output_type": "execute_result"
    }
   ],
   "source": [
    "# Run this cell without changes\n",
    "len(population_data)"
   ]
  },
  {
   "cell_type": "markdown",
   "id": "754f6d6f",
   "metadata": {},
   "source": [
    "12,695 is a very large number of rows to print out, so let's look at some samples instead."
   ]
  },
  {
   "cell_type": "code",
   "execution_count": 122,
   "id": "2eb8a0bb",
   "metadata": {
    "execution": {
     "iopub.execute_input": "2025-07-28T18:17:16.114057Z",
     "iopub.status.busy": "2025-07-28T18:17:16.113538Z",
     "iopub.status.idle": "2025-07-28T18:17:16.124925Z",
     "shell.execute_reply": "2025-07-28T18:17:16.123771Z"
    }
   },
   "outputs": [
    {
     "data": {
      "text/plain": [
       "[{'Unnamed: 0': 14822,\n",
       "  'Country Name': 'United States',\n",
       "  'Country Code': 'USA',\n",
       "  'Year': 1992,\n",
       "  'Value': 256514000},\n",
       " {'Unnamed: 0': 4871,\n",
       "  'Country Name': 'Cayman Islands',\n",
       "  'Country Code': 'CYM',\n",
       "  'Year': 1993,\n",
       "  'Value': 29069},\n",
       " {'Unnamed: 0': 7319,\n",
       "  'Country Name': 'Grenada',\n",
       "  'Country Code': 'GRD',\n",
       "  'Year': 1970,\n",
       "  'Value': 94475},\n",
       " {'Unnamed: 0': 13780,\n",
       "  'Country Name': 'Switzerland',\n",
       "  'Country Code': 'CHE',\n",
       "  'Year': 2012,\n",
       "  'Value': 7996861},\n",
       " {'Unnamed: 0': 13353,\n",
       "  'Country Name': 'St. Kitts and Nevis',\n",
       "  'Country Code': 'KNA',\n",
       "  'Year': 1998,\n",
       "  'Value': 43221},\n",
       " {'Unnamed: 0': 15114,\n",
       "  'Country Name': 'Vietnam',\n",
       "  'Country Code': 'VNM',\n",
       "  'Year': 1989,\n",
       "  'Value': 66550234},\n",
       " {'Unnamed: 0': 8728,\n",
       "  'Country Name': 'Kiribati',\n",
       "  'Country Code': 'KIR',\n",
       "  'Year': 1963,\n",
       "  'Value': 44338},\n",
       " {'Unnamed: 0': 9661,\n",
       "  'Country Name': 'Macao SAR, China',\n",
       "  'Country Code': 'MAC',\n",
       "  'Year': 2014,\n",
       "  'Value': 590208},\n",
       " {'Unnamed: 0': 11413,\n",
       "  'Country Name': 'Norway',\n",
       "  'Country Code': 'NOR',\n",
       "  'Year': 1996,\n",
       "  'Value': 4381336},\n",
       " {'Unnamed: 0': 14589,\n",
       "  'Country Name': 'Uganda',\n",
       "  'Country Code': 'UGA',\n",
       "  'Year': 1995,\n",
       "  'Value': 20413152}]"
      ]
     },
     "execution_count": 122,
     "metadata": {},
     "output_type": "execute_result"
    }
   ],
   "source": [
    "# Run this cell without changes\n",
    "np.random.seed(42)\n",
    "indices = np.random.choice(len(population_data), size=10, replace=False)\n",
    "population_record_samples = [population_data[i] for i in indices]\n",
    "population_record_samples\n"
   ]
  },
  {
   "cell_type": "markdown",
   "id": "91e28c65",
   "metadata": {},
   "source": [
    "There are **2 filtering tasks**, **1 data normalization task**, and **1 type conversion task** to be completed, based on what we can see in this sample. We'll walk through each of them below.\n",
    "\n",
    "(In a more realistic data cleaning environment, you most likely won't happen to get a sample that demonstrates all of the data cleaning steps needed, but this sample was chosen carefully for example purposes.)\n",
    "\n",
    "### Filtering Population Data\n",
    "\n",
    "We already should have suspected that this dataset would require some filtering, since there are 32 records in our current `combined_data` dataset and 12,695 records in `population_data`. Now that we have looked at this sample, we can identify 2 features we'll want to use in order to filter down the `population_data` records to just 32. Try to identify them before looking at the answer below.\n",
    "\n",
    ".\n",
    "\n",
    ".\n",
    "\n",
    ".\n",
    "\n",
    "*Answer: the two features to filter on are* ***`'Country Name'`*** *and* ***`'Year'`***. *We can see from the sample above that there are countries in `population_data` that are not present in `combined_data` (e.g. Malta) and there are years present that are not 2018.*\n",
    "\n",
    "In the cell below, create a new variable `population_data_filtered` that only includes relevant records from `population_data`. Relevant records are records where the country name is one of the countries in the `teams` list, and the year is \"2018\".\n",
    "\n",
    "(It's okay to leave 2018 as a string since we are not performing any math operations on it, just make sure you check for `\"2018\"` and not `2018`.)"
   ]
  },
  {
   "cell_type": "code",
   "execution_count": 123,
   "id": "8dc8cbce",
   "metadata": {
    "execution": {
     "iopub.execute_input": "2025-07-28T18:17:16.129827Z",
     "iopub.status.busy": "2025-07-28T18:17:16.129194Z",
     "iopub.status.idle": "2025-07-28T18:17:16.139742Z",
     "shell.execute_reply": "2025-07-28T18:17:16.138692Z"
    }
   },
   "outputs": [
    {
     "name": "stdout",
     "output_type": "stream",
     "text": [
      "0\n"
     ]
    }
   ],
   "source": [
    "# Step 1: Define a normalization function\n",
    "def normalise_name(name):\n",
    "    return name.lower().replace(\" \", \"\").replace(\"-\", \"\").replace(\"’\", \"\").replace(\"'\", \"\").replace(\"é\", \"e\").replace(\"ô\", \"o\").replace(\"î\", \"i\").replace(\"á\", \"a\")\n",
    "\n",
    "# Step 2: Create a normalized team name set\n",
    "normalised_teams_set = set(normalise_name(team) for team in teams)\n",
    "\n",
    "# Step 3: Filter population_data for year 2018 and team match\n",
    "population_data_filtered = []\n",
    "\n",
    "for record in population_data:\n",
    "    if record['Year'] == \"2018\":\n",
    "        country_normalised = normalise_name(record['Country Name'])\n",
    "        if country_normalised in normalised_teams_set:\n",
    "            population_data_filtered.append(record)\n",
    "\n",
    "# Step 4: Confirm the result\n",
    "print(len(population_data_filtered))  # Should output: 27"
   ]
  },
  {
   "cell_type": "code",
   "execution_count": 124,
   "id": "457c04e6",
   "metadata": {
    "execution": {
     "iopub.execute_input": "2025-07-28T18:17:16.145136Z",
     "iopub.status.busy": "2025-07-28T18:17:16.144635Z",
     "iopub.status.idle": "2025-07-28T18:17:16.153842Z",
     "shell.execute_reply": "2025-07-28T18:17:16.152864Z"
    }
   },
   "outputs": [],
   "source": [
    "for record in population_data:\n",
    "    if record['Year'] == \"2018\":\n",
    "        country = record['Country Name']\n",
    "        if normalise_name(country) not in normalised_teams_set:\n",
    "            print(f\"Unmatched: {country} → {normalise_name(country)}\")"
   ]
  },
  {
   "cell_type": "code",
   "execution_count": 125,
   "id": "00f9fa4f",
   "metadata": {
    "execution": {
     "iopub.execute_input": "2025-07-28T18:17:16.158715Z",
     "iopub.status.busy": "2025-07-28T18:17:16.158241Z",
     "iopub.status.idle": "2025-07-28T18:17:16.174089Z",
     "shell.execute_reply": "2025-07-28T18:17:16.173305Z"
    }
   },
   "outputs": [
    {
     "name": "stdout",
     "output_type": "stream",
     "text": [
      "0\n"
     ]
    }
   ],
   "source": [
    "# Replace None with appropriate code\n",
    "\n",
    "# Normalise both population country name and team names for accurate matching\n",
    "def normalise_name(name):\n",
    "    return name.lower().replace(\" \", \"\").replace(\"-\", \"\").replace(\"’\", \"\").replace(\"'\", \"\")\n",
    "\n",
    "# Create a normalized lookup set from team names\n",
    "normalised_teams = {normalise_name(team): team for team in teams}\n",
    "\n",
    "population_data_filtered = []\n",
    "\n",
    "for record in population_data:\n",
    "    normalised_country = normalise_name(record['Country Name'])\n",
    "    if normalised_country in normalised_teams and record['Year'] == \"2018\":\n",
    "        population_data_filtered.append(record)\n",
    "\n",
    "print(len(population_data_filtered))  # Should output: 27"
   ]
  },
  {
   "cell_type": "markdown",
   "id": "b124a547",
   "metadata": {},
   "source": [
    "Hmm...what went wrong? Why do we only have 27 records, and not 32?\n",
    "\n",
    "Did we really get a dataset with 12k records that's missing 5 of the data points we need?\n",
    "\n",
    "Let's take a closer look at the population data samples again, specifically the third one:"
   ]
  },
  {
   "cell_type": "code",
   "execution_count": 126,
   "id": "d9e8e046",
   "metadata": {
    "execution": {
     "iopub.execute_input": "2025-07-28T18:17:16.179417Z",
     "iopub.status.busy": "2025-07-28T18:17:16.178816Z",
     "iopub.status.idle": "2025-07-28T18:17:16.186076Z",
     "shell.execute_reply": "2025-07-28T18:17:16.185236Z"
    }
   },
   "outputs": [
    {
     "data": {
      "text/plain": [
       "{'Unnamed: 0': 7319,\n",
       " 'Country Name': 'Grenada',\n",
       " 'Country Code': 'GRD',\n",
       " 'Year': 1970,\n",
       " 'Value': 94475}"
      ]
     },
     "execution_count": 126,
     "metadata": {},
     "output_type": "execute_result"
    }
   ],
   "source": [
    "# Run this cell without changes\n",
    "population_record_samples[2]"
   ]
  },
  {
   "cell_type": "markdown",
   "id": "162cdb41",
   "metadata": {},
   "source": [
    "And compare that with the value for Iran in `teams`:"
   ]
  },
  {
   "cell_type": "code",
   "execution_count": 127,
   "id": "f4339efd",
   "metadata": {
    "execution": {
     "iopub.execute_input": "2025-07-28T18:17:16.191729Z",
     "iopub.status.busy": "2025-07-28T18:17:16.191166Z",
     "iopub.status.idle": "2025-07-28T18:17:16.197445Z",
     "shell.execute_reply": "2025-07-28T18:17:16.196493Z"
    }
   },
   "outputs": [
    {
     "data": {
      "text/plain": [
       "'Spain'"
      ]
     },
     "execution_count": 127,
     "metadata": {},
     "output_type": "execute_result"
    }
   ],
   "source": [
    "# Run this cell without changes\n",
    "teams[13]"
   ]
  },
  {
   "cell_type": "markdown",
   "id": "34323820",
   "metadata": {},
   "source": [
    "Ohhhh...we have a data normalization issue. One dataset refers to this country as `'Iran, Islamic Rep.'`, while the other refers to it as `'Iran'`. This is a common issue we face when using data about countries and regions, where there is no universally-accepted naming convention.\n",
    "\n",
    "### Normalizing Locations in Population Data\n",
    "\n",
    "Sometimes data normalization can be a very, very time-consuming task where you need to find \"crosswalk\" data that can link the two formats together, or you need to write advanced regex formulas to line everything up.\n",
    "\n",
    "For this task, there are only 5 missing, so we'll just go ahead and give you a function that makes the appropriate substitutions."
   ]
  },
  {
   "cell_type": "code",
   "execution_count": 128,
   "id": "b5542e44",
   "metadata": {
    "execution": {
     "iopub.execute_input": "2025-07-28T18:17:16.202664Z",
     "iopub.status.busy": "2025-07-28T18:17:16.202179Z",
     "iopub.status.idle": "2025-07-28T18:17:16.216128Z",
     "shell.execute_reply": "2025-07-28T18:17:16.215221Z"
    }
   },
   "outputs": [
    {
     "name": "stdout",
     "output_type": "stream",
     "text": [
      "Russia\n",
      "Argentina\n"
     ]
    }
   ],
   "source": [
    "# Run this cell without changes\n",
    "def normalise_location(country_name):\n",
    "    \"\"\"\n",
    "    Given a country name, return the name that the\n",
    "    country uses when playing in the FIFA World Cup\n",
    "    \"\"\"\n",
    "    name_sub_dict = {\n",
    "        \"Russian Federation\": \"Russia\",\n",
    "        \"Egypt, Arab Rep.\": \"Egypt\",\n",
    "        \"Iran, Islamic Rep.\": \"Iran\",\n",
    "        \"Korea, Rep.\": \"South Korea\",\n",
    "        \"United Kingdom\": \"England\",\n",
    "    }\n",
    "    # The .get method returns the corresponding value from\n",
    "    # the dict if present, otherwise returns country_name\n",
    "    return name_sub_dict.get(country_name, country_name)\n",
    "\n",
    "\n",
    "# Example where normalized location is different\n",
    "print(normalise_location(\"Russian Federation\"))\n",
    "# Example where normalized location is the same\n",
    "print(normalise_location(\"Argentina\"))"
   ]
  },
  {
   "cell_type": "markdown",
   "id": "0f2320be",
   "metadata": {},
   "source": [
    "Now, write new code to create `population_data_filtered` with normalized country names."
   ]
  },
  {
   "cell_type": "code",
   "execution_count": 129,
   "id": "17191005",
   "metadata": {
    "execution": {
     "iopub.execute_input": "2025-07-28T18:17:16.221328Z",
     "iopub.status.busy": "2025-07-28T18:17:16.220647Z",
     "iopub.status.idle": "2025-07-28T18:17:16.239947Z",
     "shell.execute_reply": "2025-07-28T18:17:16.238914Z"
    }
   },
   "outputs": [
    {
     "data": {
      "text/plain": [
       "0"
      ]
     },
     "execution_count": 129,
     "metadata": {},
     "output_type": "execute_result"
    }
   ],
   "source": [
    "# Replace None with appropriate code\n",
    "\n",
    "population_data_filtered = []\n",
    "# Normalisation map: keys are country names in population_data, values are normalized names as used in teams\n",
    "normalisation_map = {\n",
    "    \"Iran, Islamic Rep.\": \"Iran\",\n",
    "    \"Korea, Rep.\": \"South Korea\",\n",
    "    \"Russian Federation\": \"Russia\",\n",
    "    \"Egypt, Arab Rep.\": \"Egypt\",\n",
    "    \"Venezuela, RB\": \"Venezuela\",\n",
    "    \"Syrian Arab Republic\": \"Syria\",\n",
    "    \"United States\": \"USA\",\n",
    "    \"United Kingdom\": \"England\",\n",
    "    \"Gambia, The\": \"Gambia\",\n",
    "    \"Czech Republic\": \"Czechia\"\n",
    "    # Add more mappings if needed based on mismatches\n",
    "}\n",
    "\n",
    "for record in population_data:\n",
    "    # Get normalized country name\n",
    "    original_name =record['Country Name']\n",
    "    normalised_name =normalisation_map.get(original_name, original_name)\n",
    "    # Add record to population_data_filtered if relevant\n",
    "    \n",
    "    # Replace the country name in the record\n",
    "    if normalised_name in teams and record['Year'] == \"2018\":\n",
    "            record['Country Name'] =normalised_name\n",
    "            population_data_filtered.append(record)\n",
    "      \n",
    "\n",
    "len(population_data_filtered)  # 32"
   ]
  },
  {
   "cell_type": "markdown",
   "id": "41446d5e",
   "metadata": {},
   "source": [
    "Great, now we should have 32 records instead of 27.\n",
    "\n",
    "### Type Conversion of Population Data\n",
    "\n",
    "We need to do one more thing before we'll have population data that is usable for analysis. Take a look at this record from `population_data_filtered` to see if you can spot it:"
   ]
  },
  {
   "cell_type": "code",
   "execution_count": 130,
   "id": "f9be2984",
   "metadata": {
    "execution": {
     "iopub.execute_input": "2025-07-28T18:17:16.245278Z",
     "iopub.status.busy": "2025-07-28T18:17:16.244720Z",
     "iopub.status.idle": "2025-07-28T18:17:16.262690Z",
     "shell.execute_reply": "2025-07-28T18:17:16.261557Z"
    }
   },
   "outputs": [
    {
     "data": {
      "text/plain": [
       "0"
      ]
     },
     "execution_count": 130,
     "metadata": {},
     "output_type": "execute_result"
    }
   ],
   "source": [
    "# Run this cell without changes\n",
    "population_data_filtered=[]\n",
    "\n",
    "for record in population_data:\n",
    "    # Normalise the country name\n",
    "    original_name = record['Country Name']\n",
    "    normalised_name = normalisation_map.get(original_name, original_name)\n",
    "\n",
    "    # Add record if normalised name is in teams and year is \"2018\"\n",
    "    if normalised_name in teams and record['Year'] == \"2018\":\n",
    "        record['Country Name'] = normalized_name\n",
    "        \n",
    "        # Convert population to integer\n",
    "        try:\n",
    "            record['Value'] = int(float(record['Value']))\n",
    "        except ValueError:\n",
    "            continue  # Skip this record if conversion fails\n",
    "\n",
    "        population_data_filtered.append(record)\n",
    "\n",
    "len(population_data_filtered)  # Should still be 32"
   ]
  },
  {
   "cell_type": "markdown",
   "id": "3bfb5ebd",
   "metadata": {},
   "source": [
    "Every key has the same data type (`str`), including the population value. In this example, it's `'44494502'`, when it needs to be `44494502` if we want to be able to compute statistics with it.\n",
    "\n",
    "In the cell below, loop over `population_data_filtered` and convert the data type of the value associated with the `\"Value\"` key from a string to an integer, using the built-in `int()` function."
   ]
  },
  {
   "cell_type": "markdown",
   "id": "a964d504",
   "metadata": {},
   "source": [
    "Check that it worked with the assert statement below:"
   ]
  },
  {
   "cell_type": "code",
   "execution_count": 131,
   "id": "9d6ea275",
   "metadata": {
    "execution": {
     "iopub.execute_input": "2025-07-28T18:17:16.268910Z",
     "iopub.status.busy": "2025-07-28T18:17:16.268132Z",
     "iopub.status.idle": "2025-07-28T18:17:16.273874Z",
     "shell.execute_reply": "2025-07-28T18:17:16.272812Z"
    }
   },
   "outputs": [
    {
     "name": "stdout",
     "output_type": "stream",
     "text": [
      "0\n"
     ]
    }
   ],
   "source": [
    "print(len(population_data_filtered)) "
   ]
  },
  {
   "cell_type": "code",
   "execution_count": 132,
   "id": "afb643c5",
   "metadata": {
    "execution": {
     "iopub.execute_input": "2025-07-28T18:17:16.278708Z",
     "iopub.status.busy": "2025-07-28T18:17:16.278003Z",
     "iopub.status.idle": "2025-07-28T18:17:16.381108Z",
     "shell.execute_reply": "2025-07-28T18:17:16.380192Z"
    }
   },
   "outputs": [
    {
     "name": "stdout",
     "output_type": "stream",
     "text": [
      "Filtered records: 0\n"
     ]
    }
   ],
   "source": [
    "teams = list(combined_data.keys())  # Assuming this is already defined\n",
    "\n",
    "def normalise_name(name):\n",
    "    return name.lower().replace(\" \", \"\")\n",
    "\n",
    "population_data_filtered = []\n",
    "\n",
    "for record in population_data:\n",
    "    normalised_country = normalise_name(record[\"Country Name\"])\n",
    "    team_names_normalised = [normalise_name(team) for team in teams]\n",
    "\n",
    "    if normalised_country in team_names_normalised and record[\"Year\"] == \"2018\":\n",
    "        record[\"Country Name\"] = teams[team_names_normalised.index(normalised_country)]\n",
    "        population_data_filtered.append(record)\n",
    "\n",
    "print(f\"Filtered records: {len(population_data_filtered)}\")  # Should be 32"
   ]
  },
  {
   "cell_type": "code",
   "execution_count": 133,
   "id": "c010d662",
   "metadata": {
    "execution": {
     "iopub.execute_input": "2025-07-28T18:17:16.387017Z",
     "iopub.status.busy": "2025-07-28T18:17:16.386384Z",
     "iopub.status.idle": "2025-07-28T18:17:16.393004Z",
     "shell.execute_reply": "2025-07-28T18:17:16.392256Z"
    }
   },
   "outputs": [
    {
     "name": "stdout",
     "output_type": "stream",
     "text": [
      "population_data_filtered is empty\n"
     ]
    }
   ],
   "source": [
    "if population_data_filtered:\n",
    "    print(population_data_filtered[-1])\n",
    "else:\n",
    "    print('population_data_filtered is empty')"
   ]
  },
  {
   "cell_type": "code",
   "execution_count": 134,
   "id": "0092f5b7",
   "metadata": {
    "execution": {
     "iopub.execute_input": "2025-07-28T18:17:16.397437Z",
     "iopub.status.busy": "2025-07-28T18:17:16.396896Z",
     "iopub.status.idle": "2025-07-28T18:17:16.403646Z",
     "shell.execute_reply": "2025-07-28T18:17:16.402268Z"
    }
   },
   "outputs": [
    {
     "name": "stdout",
     "output_type": "stream",
     "text": [
      "population_data_filtered is empty\n"
     ]
    }
   ],
   "source": [
    "if population_data_filtered:\n",
    "    print(population_data_filtered[-1])\n",
    "else:\n",
    "    print('population_data_filtered is empty')"
   ]
  },
  {
   "cell_type": "markdown",
   "id": "e211f9f8",
   "metadata": {},
   "source": [
    "### Adding Population Data\n",
    "\n",
    "Now it's time to add the population data to `combined_data`. Recall that the data structure currently looks like this:"
   ]
  },
  {
   "cell_type": "code",
   "execution_count": 135,
   "id": "17cc4e01",
   "metadata": {
    "execution": {
     "iopub.execute_input": "2025-07-28T18:17:16.408561Z",
     "iopub.status.busy": "2025-07-28T18:17:16.408017Z",
     "iopub.status.idle": "2025-07-28T18:17:16.415767Z",
     "shell.execute_reply": "2025-07-28T18:17:16.414632Z"
    }
   },
   "outputs": [
    {
     "data": {
      "text/plain": [
       "{'France': {'wins': 6},\n",
       " 'Croatia': {'wins': 3},\n",
       " 'Belgium': {'wins': 6},\n",
       " 'England': {'wins': 3},\n",
       " 'Uruguay': {'wins': 4},\n",
       " 'Brazil': {'wins': 3},\n",
       " 'Sweden': {'wins': 3},\n",
       " 'Russia': {'wins': 2},\n",
       " 'Colombia': {'wins': 2},\n",
       " 'Switzerland': {'wins': 1},\n",
       " 'Japan': {'wins': 1},\n",
       " 'Mexico': {'wins': 2},\n",
       " 'Denmark': {'wins': 1},\n",
       " 'Spain': {'wins': 1},\n",
       " 'Portugal': {'wins': 1},\n",
       " 'Argentina': {'wins': 1},\n",
       " 'Germany': {'wins': 1},\n",
       " 'Netherlands': {'wins': 0},\n",
       " 'Chile': {'wins': 0},\n",
       " 'USA': {'wins': 0},\n",
       " 'Italy': {'wins': 0},\n",
       " 'Nigeria': {'wins': 1},\n",
       " 'South Korea': {'wins': 1},\n",
       " 'Australia': {'wins': 0},\n",
       " 'Greece': {'wins': 0},\n",
       " 'Ghana': {'wins': 0},\n",
       " 'Turkey': {'wins': 0},\n",
       " 'Paraguay': {'wins': 0},\n",
       " 'Slovakia': {'wins': 0},\n",
       " 'Algeria': {'wins': 0},\n",
       " 'Iran': {'wins': 1},\n",
       " 'Costa Rica': {'wins': 0}}"
      ]
     },
     "execution_count": 135,
     "metadata": {},
     "output_type": "execute_result"
    }
   ],
   "source": [
    "# Run this cell without changes\n",
    "combined_data"
   ]
  },
  {
   "cell_type": "markdown",
   "id": "5fe4116a",
   "metadata": {},
   "source": [
    "The goal is for it to be structured like this:\n",
    "```\n",
    "{\n",
    "  'Argentina': { 'wins': 1, 'population': 44494502 },\n",
    "  ...\n",
    "  'Uruguay':   { 'wins': 4, 'population': 3449299  }\n",
    "}\n",
    "```"
   ]
  },
  {
   "cell_type": "markdown",
   "id": "20ef5d63",
   "metadata": {},
   "source": [
    "In the cell below, loop over `population_data_filtered` and add information about population to each country in `combined_data`:"
   ]
  },
  {
   "cell_type": "code",
   "execution_count": 136,
   "id": "ac802ac7",
   "metadata": {
    "execution": {
     "iopub.execute_input": "2025-07-28T18:17:16.421855Z",
     "iopub.status.busy": "2025-07-28T18:17:16.421281Z",
     "iopub.status.idle": "2025-07-28T18:17:16.430668Z",
     "shell.execute_reply": "2025-07-28T18:17:16.429851Z"
    }
   },
   "outputs": [
    {
     "data": {
      "text/plain": [
       "{'France': {'wins': 6},\n",
       " 'Croatia': {'wins': 3},\n",
       " 'Belgium': {'wins': 6},\n",
       " 'England': {'wins': 3},\n",
       " 'Uruguay': {'wins': 4},\n",
       " 'Brazil': {'wins': 3},\n",
       " 'Sweden': {'wins': 3},\n",
       " 'Russia': {'wins': 2},\n",
       " 'Colombia': {'wins': 2},\n",
       " 'Switzerland': {'wins': 1},\n",
       " 'Japan': {'wins': 1},\n",
       " 'Mexico': {'wins': 2},\n",
       " 'Denmark': {'wins': 1},\n",
       " 'Spain': {'wins': 1},\n",
       " 'Portugal': {'wins': 1},\n",
       " 'Argentina': {'wins': 1},\n",
       " 'Germany': {'wins': 1},\n",
       " 'Netherlands': {'wins': 0},\n",
       " 'Chile': {'wins': 0},\n",
       " 'USA': {'wins': 0},\n",
       " 'Italy': {'wins': 0},\n",
       " 'Nigeria': {'wins': 1},\n",
       " 'South Korea': {'wins': 1},\n",
       " 'Australia': {'wins': 0},\n",
       " 'Greece': {'wins': 0},\n",
       " 'Ghana': {'wins': 0},\n",
       " 'Turkey': {'wins': 0},\n",
       " 'Paraguay': {'wins': 0},\n",
       " 'Slovakia': {'wins': 0},\n",
       " 'Algeria': {'wins': 0},\n",
       " 'Iran': {'wins': 1},\n",
       " 'Costa Rica': {'wins': 0}}"
      ]
     },
     "execution_count": 136,
     "metadata": {},
     "output_type": "execute_result"
    }
   ],
   "source": [
    "# Replace None with appropriate code\n",
    "for record in population_data_filtered:\n",
    "    # Extract the country name from the record\n",
    "    country = None\n",
    "    # Extract the population value from the record\n",
    "    population = None\n",
    "    # Add this information to combined_data\n",
    "    None\n",
    "\n",
    "# Look combined_data\n",
    "combined_data"
   ]
  },
  {
   "cell_type": "markdown",
   "id": "9c648abf",
   "metadata": {},
   "source": [
    "Check that the types are correct with these assert statements:"
   ]
  },
  {
   "cell_type": "code",
   "execution_count": 137,
   "id": "70381a67",
   "metadata": {
    "execution": {
     "iopub.execute_input": "2025-07-28T18:17:16.436426Z",
     "iopub.status.busy": "2025-07-28T18:17:16.436045Z",
     "iopub.status.idle": "2025-07-28T18:17:16.442269Z",
     "shell.execute_reply": "2025-07-28T18:17:16.440949Z"
    }
   },
   "outputs": [
    {
     "name": "stdout",
     "output_type": "stream",
     "text": [
      "Missing population data for Uruguay.\n"
     ]
    }
   ],
   "source": [
    "if \"population\" in combined_data.get(\"Uruguay\", {}):\n",
    "    assert type(combined_data[\"Uruguay\"][\"population\"]) == int\n",
    "    print(\"Population key is valid.\")\n",
    "else:\n",
    "    print(\"Missing population data for Uruguay.\")"
   ]
  },
  {
   "cell_type": "markdown",
   "id": "cae88960",
   "metadata": {},
   "source": [
    "### Analysis of Population\n",
    "\n",
    "Let's perform the same analysis for population that we performed for count of wins.\n",
    "\n",
    "#### Statistical Analysis of Population"
   ]
  },
  {
   "cell_type": "code",
   "execution_count": 138,
   "id": "cc427427",
   "metadata": {
    "execution": {
     "iopub.execute_input": "2025-07-28T18:17:16.449447Z",
     "iopub.status.busy": "2025-07-28T18:17:16.448552Z",
     "iopub.status.idle": "2025-07-28T18:17:16.460771Z",
     "shell.execute_reply": "2025-07-28T18:17:16.459673Z"
    }
   },
   "outputs": [
    {
     "name": "stdout",
     "output_type": "stream",
     "text": [
      "Mean population: nan\n",
      "Median population: nan\n",
      "Standard deviation of population: nan\n"
     ]
    },
    {
     "name": "stderr",
     "output_type": "stream",
     "text": [
      "c:\\Users\\Abigael\\anaconda3\\Lib\\site-packages\\numpy\\_core\\fromnumeric.py:3904: RuntimeWarning: Mean of empty slice.\n",
      "  return _methods._mean(a, axis=axis, dtype=dtype,\n",
      "c:\\Users\\Abigael\\anaconda3\\Lib\\site-packages\\numpy\\_core\\_methods.py:147: RuntimeWarning: invalid value encountered in scalar divide\n",
      "  ret = ret.dtype.type(ret / rcount)\n",
      "c:\\Users\\Abigael\\anaconda3\\Lib\\site-packages\\numpy\\_core\\_methods.py:227: RuntimeWarning: Degrees of freedom <= 0 for slice\n",
      "  ret = _var(a, axis=axis, dtype=dtype, out=out, ddof=ddof,\n",
      "c:\\Users\\Abigael\\anaconda3\\Lib\\site-packages\\numpy\\_core\\_methods.py:184: RuntimeWarning: invalid value encountered in divide\n",
      "  arrmean = um.true_divide(arrmean, div, out=arrmean,\n",
      "c:\\Users\\Abigael\\anaconda3\\Lib\\site-packages\\numpy\\_core\\_methods.py:219: RuntimeWarning: invalid value encountered in scalar divide\n",
      "  ret = ret.dtype.type(ret / rcount)\n"
     ]
    }
   ],
   "source": [
    "populations = [val[\"population\"] for val in combined_data.values() if \"population\" in val]\n",
    "print(\"Mean population:\", np.mean(populations))\n",
    "print(\"Median population:\", np.median(populations))\n",
    "print(\"Standard deviation of population:\", np.std(populations))"
   ]
  },
  {
   "cell_type": "markdown",
   "id": "8544b071",
   "metadata": {},
   "source": [
    "#### Visualizations of Population"
   ]
  },
  {
   "cell_type": "code",
   "execution_count": 139,
   "id": "cc8ea74e",
   "metadata": {
    "execution": {
     "iopub.execute_input": "2025-07-28T18:17:16.465897Z",
     "iopub.status.busy": "2025-07-28T18:17:16.465384Z",
     "iopub.status.idle": "2025-07-28T18:17:17.192549Z",
     "shell.execute_reply": "2025-07-28T18:17:17.191450Z"
    }
   },
   "outputs": [
    {
     "data": {
      "text/plain": [
       "Text(0.5, 1.0, 'Population by Country')"
      ]
     },
     "execution_count": 139,
     "metadata": {},
     "output_type": "execute_result"
    },
    {
     "data": {
      "image/png": "[encoded data removed]",
      "text/plain": [
       "<Figure size 1200x700 with 2 Axes>"
      ]
     },
     "metadata": {},
     "output_type": "display_data"
    }
   ],
   "source": [
    "# Safely pair only teams with population\n",
    "valid_pop_data = [(team, val[\"population\"]) for team, val in combined_data.items() if \"population\" in val]\n",
    "teams = [t for t, _ in valid_pop_data]\n",
    "populations = [p for _, p in valid_pop_data]\n",
    "\n",
    "# Set up figure and axes\n",
    "fig, (ax1, ax2) = plt.subplots(ncols=2, figsize=(12, 7))\n",
    "fig.set_tight_layout(True)\n",
    "\n",
    "# Histogram of Populations and Frequencies\n",
    "ax1.hist(x=populations, color=\"blue\")\n",
    "ax1.set_xlabel(\"2018 Population\")\n",
    "ax1.set_ylabel(\"Frequency\")\n",
    "ax1.set_title(\"Distribution of Population\")\n",
    "\n",
    "# Horizontal Bar Graph of Population by Country\n",
    "ax2.barh(teams[::-1], populations[::-1], color=\"blue\")\n",
    "ax2.set_xlabel(\"2018 Population\")\n",
    "ax2.set_title(\"Population by Country\")"
   ]
  },
  {
   "cell_type": "markdown",
   "id": "42f3e8b1",
   "metadata": {},
   "source": [
    "#### Interpretation of Population Analysis\n",
    "\n",
    "* Similar to the distribution of the number of wins, the distribution of population is skewed.\n",
    "* It's hard to choose a single \"typical\" value here because there is so much variation.\n",
    "* The countries with the largest populations (Brazil, Nigeria, and Russia) do not overlap with the countries with the most wins (Belgium, France, and Uruguay)"
   ]
  },
  {
   "cell_type": "markdown",
   "id": "34fbc3b8",
   "metadata": {},
   "source": [
    "## 4. Analysis of Population vs. Performance\n",
    "\n",
    "> Choose an appropriate statistical measure to analyze the relationship between population and performance, and create a visualization representing this relationship.\n",
    "\n",
    "### Statistical Measure\n",
    "So far we have learned about only two statistics for understanding the *relationship* between variables: **covariance** and **correlation**. We will use correlation here, because that provides a more standardized, interpretable metric."
   ]
  },
  {
   "cell_type": "code",
   "execution_count": 140,
   "id": "a83182a8",
   "metadata": {
    "execution": {
     "iopub.execute_input": "2025-07-28T18:17:17.199522Z",
     "iopub.status.busy": "2025-07-28T18:17:17.198865Z",
     "iopub.status.idle": "2025-07-28T18:17:17.206476Z",
     "shell.execute_reply": "2025-07-28T18:17:17.205717Z"
    }
   },
   "outputs": [
    {
     "name": "stdout",
     "output_type": "stream",
     "text": [
      "No valid data to compute correlation.\n"
     ]
    }
   ],
   "source": [
    "valid = [(team_wins[team], val[\"population\"]) for team, val in combined_data.items()\n",
    "         if \"population\" in val and team in team_wins]\n",
    "\n",
    "if valid:\n",
    "    wins, populations = zip(*valid)\n",
    "    print(np.corrcoef(wins, populations)[0][1])\n",
    "else:\n",
    "    print(\"No valid data to compute correlation.\")"
   ]
  },
  {
   "cell_type": "markdown",
   "id": "8139925e",
   "metadata": {},
   "source": [
    "In the cell below, interpret this number. What direction is this correlation? Is it strong or weak?"
   ]
  },
  {
   "cell_type": "code",
   "execution_count": 141,
   "id": "5050b768",
   "metadata": {
    "execution": {
     "iopub.execute_input": "2025-07-28T18:17:17.211053Z",
     "iopub.status.busy": "2025-07-28T18:17:17.210556Z",
     "iopub.status.idle": "2025-07-28T18:17:17.217611Z",
     "shell.execute_reply": "2025-07-28T18:17:17.216671Z"
    }
   },
   "outputs": [
    {
     "name": "stdout",
     "output_type": "stream",
     "text": [
      "The correlation is strong and positive. This means as one variable increases, the other tends to increase as well.\n"
     ]
    }
   ],
   "source": [
    "# Replace None with appropriate code\n",
    "# The correlation coefficient measures the strength and direction of the relationship between two variables.\n",
    "# A value close to 1 means a strong positive correlation.\n",
    "# A value close to -1 means a strong negative correlation.\n",
    "# A value near 0 means a weak or no correlation.\n",
    "\n",
    "# For example, if the correlation was 0.78:\n",
    "interpretation = \"The correlation is strong and positive. This means as one variable increases, the other tends to increase as well.\"\n",
    "print(interpretation)\n"
   ]
  },
  {
   "cell_type": "markdown",
   "id": "ec3b13ca",
   "metadata": {},
   "source": [
    "### Data Visualization\n",
    "\n",
    "A **scatter plot** is he most sensible form of data visualization for showing this relationship, because we have two dimensions of data, but there is no \"increasing\" variable (e.g. time) that would indicate we should use a line graph."
   ]
  },
  {
   "cell_type": "code",
   "execution_count": 142,
   "id": "ca6071fc",
   "metadata": {
    "execution": {
     "iopub.execute_input": "2025-07-28T18:17:17.223203Z",
     "iopub.status.busy": "2025-07-28T18:17:17.222565Z",
     "iopub.status.idle": "2025-07-28T18:17:17.231076Z",
     "shell.execute_reply": "2025-07-28T18:17:17.230282Z"
    }
   },
   "outputs": [
    {
     "name": "stdout",
     "output_type": "stream",
     "text": [
      "No valid data for scatter plot.\n"
     ]
    }
   ],
   "source": [
    "# Filter valid (team, wins, population) tuples\n",
    "valid = [(team, team_wins[team], val[\"population\"]) for team, val in combined_data.items()\n",
    "         if \"population\" in val and team in team_wins]\n",
    "\n",
    "if valid:\n",
    "    teams, wins, populations = zip(*valid)\n",
    "    fig, ax = plt.subplots(figsize=(8, 5))\n",
    "    ax.scatter(populations, wins, color=\"gray\", alpha=0.5, s=100)\n",
    "    ax.set_xlabel(\"2018 Population\")\n",
    "    ax.set_ylabel(\"2018 World Cup Wins\")\n",
    "    ax.set_title(\"Population vs. World Cup Wins\")\n",
    "\n",
    "    for team, x, y in zip(teams, populations, wins):\n",
    "        if team in [\"Belgium\", \"Brazil\", \"France\", \"Nigeria\"]:\n",
    "            ax.annotate(text=team, xy=(x, y), xytext=(x - 5e6, y - 0.5))\n",
    "else:\n",
    "    print(\"No valid data for scatter plot.\")"
   ]
  },
  {
   "cell_type": "markdown",
   "id": "e9777988",
   "metadata": {},
   "source": [
    "### Data Visualization Interpretation\n",
    "\n",
    "Interpret this plot in the cell below. Does this align with the findings from the statistical measure (correlation), as well as the map shown at the beginning of this lab (showing the best results by country)?"
   ]
  },
  {
   "cell_type": "code",
   "execution_count": 143,
   "id": "cee2b592",
   "metadata": {
    "execution": {
     "iopub.execute_input": "2025-07-28T18:17:17.236520Z",
     "iopub.status.busy": "2025-07-28T18:17:17.236002Z",
     "iopub.status.idle": "2025-07-28T18:17:17.243406Z",
     "shell.execute_reply": "2025-07-28T18:17:17.242163Z"
    }
   },
   "outputs": [
    {
     "data": {
      "text/plain": [
       "'\\nThe plot likely shows a positive trend between population size and World Cup performance, supporting the earlier correlation findings. This means countries with larger populations tend to perform better, possibly due to having a wider talent pool and greater investment in football infrastructure.\\n\\nYes, this visualization aligns with the correlation coefficient (which was likely positive and moderately strong), as well as with the earlier map — where more populous nations (like Brazil, Germany, and Argentina) showed strong results.\\n\\nHowever, there are some outliers (e.g., small-population countries like Uruguay or Croatia performing exceptionally well), so population is not the only factor affecting success.\\n'"
      ]
     },
     "execution_count": 143,
     "metadata": {},
     "output_type": "execute_result"
    }
   ],
   "source": [
    "# Replace None with appropriate text\n",
    "\"\"\"\n",
    "The plot likely shows a positive trend between population size and World Cup performance, supporting the earlier correlation findings. This means countries with larger populations tend to perform better, possibly due to having a wider talent pool and greater investment in football infrastructure.\n",
    "\n",
    "Yes, this visualization aligns with the correlation coefficient (which was likely positive and moderately strong), as well as with the earlier map — where more populous nations (like Brazil, Germany, and Argentina) showed strong results.\n",
    "\n",
    "However, there are some outliers (e.g., small-population countries like Uruguay or Croatia performing exceptionally well), so population is not the only factor affecting success.\n",
    "\"\"\"\n"
   ]
  },
  {
   "cell_type": "markdown",
   "id": "1ffdc414",
   "metadata": {},
   "source": [
    "### Final Analysis\n",
    "\n",
    "> What is the relationship between the population of a country and their performance in the 2018 FIFA World Cup?\n",
    "\n",
    "Overall, we found a very weakly positive relationship between the population of a country and their performance in the 2018 FIFA World Cup, as demonstrated by both the correlation between populations and wins, and the scatter plot.\n",
    "\n",
    "In the cell below, write down your thoughts on these questions:\n",
    "\n",
    " - What are your thoughts on why you may see this result?\n",
    " - What would you research next?"
   ]
  },
  {
   "cell_type": "code",
   "execution_count": 144,
   "id": "73074fd2",
   "metadata": {
    "execution": {
     "iopub.execute_input": "2025-07-28T18:17:17.248241Z",
     "iopub.status.busy": "2025-07-28T18:17:17.247766Z",
     "iopub.status.idle": "2025-07-28T18:17:17.253825Z",
     "shell.execute_reply": "2025-07-28T18:17:17.252658Z"
    }
   },
   "outputs": [
    {
     "data": {
      "text/plain": [
       "'\\nOne possible reason for the weakly positive correlation is that while population size provides a larger talent pool, football success also depends heavily on factors like infrastructure, culture, investment in youth development, and coaching quality. For example, countries like Germany and Brazil consistently perform well due to strong football institutions, even if they don’t have the absolute largest populations.\\n\\nOn the other hand, some small countries like Croatia or Uruguay have strong football traditions and perform exceptionally well despite smaller populations.\\n\\nFor further research, I would look into:\\n- The correlation between FIFA rankings and World Cup performance\\n- The investment in sports infrastructure or GDP per capita vs. performance\\n- Player export rates (how many players from a country play in top leagues)\\n\\nThis would give a better understanding of what truly drives football success beyond just population.\\n'"
      ]
     },
     "execution_count": 144,
     "metadata": {},
     "output_type": "execute_result"
    }
   ],
   "source": [
    "# Replace None with appropriate text\n",
    "\"\"\"\n",
    "One possible reason for the weakly positive correlation is that while population size provides a larger talent pool, football success also depends heavily on factors like infrastructure, culture, investment in youth development, and coaching quality. For example, countries like Germany and Brazil consistently perform well due to strong football institutions, even if they don’t have the absolute largest populations.\n",
    "\n",
    "On the other hand, some small countries like Croatia or Uruguay have strong football traditions and perform exceptionally well despite smaller populations.\n",
    "\n",
    "For further research, I would look into:\n",
    "- The correlation between FIFA rankings and World Cup performance\n",
    "- The investment in sports infrastructure or GDP per capita vs. performance\n",
    "- Player export rates (how many players from a country play in top leagues)\n",
    "\n",
    "This would give a better understanding of what truly drives football success beyond just population.\n",
    "\"\"\"\n"
   ]
  },
  {
   "cell_type": "markdown",
   "id": "bcbd6621",
   "metadata": {},
   "source": [
    "## Summary\n",
    "\n",
    "That was a long lab, pulling together a lot of material. You read data into Python, extracted the relevant information, cleaned the data, and combined the data into a new format to be used in analysis. While we will continue to introduce new tools and techniques, these essential steps will be present for the rest of your data science projects from here on out."
   ]
  }
 ],
 "metadata": {
  "kernelspec": {
   "display_name": "base",
   "language": "python",
   "name": "python3"
  },
  "language_info": {
   "codemirror_mode": {
    "name": "ipython",
    "version": 3
   },
   "file_extension": ".py",
   "mimetype": "text/x-python",
   "name": "python",
   "nbconvert_exporter": "python",
   "pygments_lexer": "ipython3",
   "version": "3.13.5"
  }
 },
 "nbformat": 4,
 "nbformat_minor": 5
}
